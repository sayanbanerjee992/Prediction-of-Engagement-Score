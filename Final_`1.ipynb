{
 "cells": [
  {
   "cell_type": "markdown",
   "metadata": {},
   "source": [
    "# Prediction of Engagement Score"
   ]
  },
  {
   "cell_type": "markdown",
   "metadata": {},
   "source": [
    "## Problem Statement"
   ]
  },
  {
   "cell_type": "markdown",
   "metadata": {},
   "source": [
    "ABC is an online content sharing platform that enables users to create, upload and share the content in the form of videos. It includes videos from different genres like entertainment, education, sports, technology and so on. The maximum duration of video is 10 minutes.\n",
    "Users can like, comment and share the videos on the platform. \n",
    "Based on the user’s interaction with the videos, engagement score is assigned to the video with respect to each user. Engagement score defines how engaging the content of the video is. \n",
    "Understanding the engagement score of the video improves the user’s interaction with the platform. It defines the type of content that is appealing to the user and engages the larger audience.\n"
   ]
  },
  {
   "cell_type": "markdown",
   "metadata": {},
   "source": [
    "## Objective\n",
    "\n",
    "The main objective of the problem is to develop the machine learning approach to predict the engagement score of the video on the user level.\n"
   ]
  },
  {
   "cell_type": "markdown",
   "metadata": {},
   "source": [
    "## Data Dictionary"
   ]
  },
  {
   "cell_type": "markdown",
   "metadata": {},
   "source": [
    "### Training set\n",
    "\n",
    "train.csv contains the user and video information along with the engagement score\n",
    "\n",
    "![Train Dataset](pic1.png)\n",
    "\n",
    "\n",
    "### Test set\n",
    "\n",
    "test.csv contains only the user and video information, and you have to predict the engagement score\n",
    "\n",
    "![Test Dataset](pic2.png)"
   ]
  },
  {
   "cell_type": "markdown",
   "metadata": {},
   "source": [
    "## Evaluation metric\n",
    "\n",
    " * The evaluation metric for this hackathon is r2 score.\n",
    "\n",
    "\n",
    "## Guidelines for Final Submission\n",
    "\n",
    "Please ensure that your final submission includes the following:\n",
    "\n",
    "    1. Solution file containing the predictions for the row_id in the test set (Format is given in sample_submission.csv)\n",
    "    2. A zipped file containing code & approach (Note that both code and approach document are mandatory for shortlisting)\n",
    "    \n",
    "        a. Code: Clean code with comments on each part\n",
    "        b. Approach: Please share your approach to solve the problem (doc/ppt/pdf format). It should cover the following topics:\n",
    "\n",
    "\n",
    "             i.  A brief on the approach used to solve the problem.\n",
    "            ii.  Which Data-preprocessing / Feature Engineering ideas really worked? How did you discover them?\n",
    "           iii.  What does your final model look like? How did you reach it?\n",
    "\n",
    "## Public and Private Split\n",
    "\n",
    "Test data is further divided into Public (40%) and Private (60%) data.\n",
    "\n",
    " * Your initial responses will be checked and scored on the Public data.\n",
    " * The final rankings would be based on your private score which will be published once the competition is over."
   ]
  },
  {
   "cell_type": "markdown",
   "metadata": {},
   "source": [
    "## Table of Content"
   ]
  },
  {
   "cell_type": "markdown",
   "metadata": {},
   "source": [
    "* __Step 1: Importing the Relevant Libraries__\n",
    "    \n",
    "* __Step 2: Data Inspection__\n",
    "    \n",
    "* __Step 3: Data Cleaning__\n",
    "    \n",
    "* __Step 4: Exploratory Data Analysis__\n",
    "    \n",
    "* __Step 5: Building Model__\n",
    "    \n",
    "* __Step 6: Evaluation__\n"
   ]
  },
  {
   "cell_type": "markdown",
   "metadata": {},
   "source": [
    "### Step 1: Importing the Relevant Libraries"
   ]
  },
  {
   "cell_type": "code",
   "execution_count": 1,
   "metadata": {},
   "outputs": [],
   "source": [
    "import matplotlib.pyplot as plt\n",
    "import pandas as pd\n",
    "import numpy as np\n",
    "import seaborn as sns\n",
    "\n",
    "from collections import Counter\n",
    "from prettytable import PrettyTable\n",
    "\n",
    "from sklearn.preprocessing import LabelEncoder\n",
    "from sklearn.model_selection import train_test_split\n",
    "from sklearn.metrics import r2_score\n",
    "from sklearn.linear_model import LinearRegression\n",
    "from lightgbm import LGBMRegressor\n",
    "\n",
    "from catboost import CatBoostRegressor\n",
    "from xgboost import XGBRegressor\n",
    "from sklearn.linear_model import LinearRegression\n",
    "from sklearn.linear_model import ElasticNet\n",
    "from sklearn.linear_model import Ridge\n",
    "from sklearn.linear_model import Lasso\n",
    "from sklearn.ensemble import AdaBoostRegressor\n",
    "from sklearn.neighbors import KNeighborsRegressor\n",
    "\n",
    "\n",
    "import warnings\n",
    "warnings.filterwarnings('always')\n",
    "warnings.filterwarnings('ignore')"
   ]
  },
  {
   "cell_type": "markdown",
   "metadata": {},
   "source": [
    "### Step 2: Data Inspection"
   ]
  },
  {
   "cell_type": "code",
   "execution_count": 2,
   "metadata": {},
   "outputs": [],
   "source": [
    "#Load the CSV files for train and test datasets\n",
    "\n",
    "df_train = pd.read_csv(\"train_0OECtn8.csv\")\n",
    "df_test = pd.read_csv(\"test_1zqHu22.csv\")"
   ]
  },
  {
   "cell_type": "code",
   "execution_count": 3,
   "metadata": {},
   "outputs": [
    {
     "data": {
      "text/plain": [
       "((89197, 10), (11121, 9))"
      ]
     },
     "execution_count": 3,
     "metadata": {},
     "output_type": "execute_result"
    }
   ],
   "source": [
    "#Chech the shape of the datasets\n",
    "\n",
    "df_train.shape,df_test.shape"
   ]
  },
  {
   "cell_type": "markdown",
   "metadata": {},
   "source": [
    "* __We have 89197 rows and 10 columns in Train set whereas Test set has 11121 rows and 9 columns.__"
   ]
  },
  {
   "cell_type": "code",
   "execution_count": 4,
   "metadata": {},
   "outputs": [
    {
     "data": {
      "text/plain": [
       "Counter({dtype('int64'): 7, dtype('O'): 2, dtype('float64'): 1})"
      ]
     },
     "execution_count": 4,
     "metadata": {},
     "output_type": "execute_result"
    }
   ],
   "source": [
    "#Counting the datatypes of columns for train dataset\n",
    "\n",
    "Counter(df_train.dtypes)"
   ]
  },
  {
   "cell_type": "code",
   "execution_count": 5,
   "metadata": {},
   "outputs": [
    {
     "data": {
      "text/plain": [
       "Counter({dtype('int64'): 7, dtype('O'): 2})"
      ]
     },
     "execution_count": 5,
     "metadata": {},
     "output_type": "execute_result"
    }
   ],
   "source": [
    "#Counting the datatypes of columns for train dataset\n",
    "\n",
    "Counter(df_test.dtypes)"
   ]
  },
  {
   "cell_type": "markdown",
   "metadata": {},
   "source": [
    "* We have 7 int and 2 catagorical columns in both the datasets whereas Train dataset has 1 extra float column."
   ]
  },
  {
   "cell_type": "markdown",
   "metadata": {},
   "source": [
    "### Step 3: Data Cleaning"
   ]
  },
  {
   "cell_type": "code",
   "execution_count": 6,
   "metadata": {},
   "outputs": [
    {
     "name": "stdout",
     "output_type": "stream",
     "text": [
      "<class 'pandas.core.frame.DataFrame'>\n",
      "RangeIndex: 89197 entries, 0 to 89196\n",
      "Data columns (total 10 columns):\n",
      " #   Column            Non-Null Count  Dtype  \n",
      "---  ------            --------------  -----  \n",
      " 0   row_id            89197 non-null  int64  \n",
      " 1   user_id           89197 non-null  int64  \n",
      " 2   category_id       89197 non-null  int64  \n",
      " 3   video_id          89197 non-null  int64  \n",
      " 4   age               89197 non-null  int64  \n",
      " 5   gender            89197 non-null  object \n",
      " 6   profession        89197 non-null  object \n",
      " 7   followers         89197 non-null  int64  \n",
      " 8   views             89197 non-null  int64  \n",
      " 9   engagement_score  89197 non-null  float64\n",
      "dtypes: float64(1), int64(7), object(2)\n",
      "memory usage: 6.8+ MB\n"
     ]
    }
   ],
   "source": [
    "\"\"\"  Understand the dataset , all the data types of the columns, \n",
    "any null values are present in the particular columns or not and\n",
    "memory usuage of the dataset\"\"\"\n",
    "\n",
    "df_train.info()"
   ]
  },
  {
   "cell_type": "code",
   "execution_count": 7,
   "metadata": {},
   "outputs": [
    {
     "name": "stdout",
     "output_type": "stream",
     "text": [
      "<class 'pandas.core.frame.DataFrame'>\n",
      "RangeIndex: 11121 entries, 0 to 11120\n",
      "Data columns (total 9 columns):\n",
      " #   Column       Non-Null Count  Dtype \n",
      "---  ------       --------------  ----- \n",
      " 0   row_id       11121 non-null  int64 \n",
      " 1   user_id      11121 non-null  int64 \n",
      " 2   category_id  11121 non-null  int64 \n",
      " 3   video_id     11121 non-null  int64 \n",
      " 4   age          11121 non-null  int64 \n",
      " 5   gender       11121 non-null  object\n",
      " 6   profession   11121 non-null  object\n",
      " 7   followers    11121 non-null  int64 \n",
      " 8   views        11121 non-null  int64 \n",
      "dtypes: int64(7), object(2)\n",
      "memory usage: 782.1+ KB\n"
     ]
    }
   ],
   "source": [
    "\"\"\"  Understand the dataset , all the data types of the columns, \n",
    "any null values are present in the particular columns or not and\n",
    "memory usuage of the dataset\"\"\"\n",
    "\n",
    "df_test.info()"
   ]
  },
  {
   "cell_type": "code",
   "execution_count": 8,
   "metadata": {},
   "outputs": [],
   "source": [
    "## This function will reduce the occupied memory usuage\n",
    "\n",
    "def memory_reduce(df):\n",
    "    \n",
    "    #Taking all the column for the dataframe one by one\n",
    "    for col in df:\n",
    "        \n",
    "        #Compairing the datatype of the column\n",
    "        if df[col].dtype == \"float64\":\n",
    "            \n",
    "            #using downcasting loop to the reduce the size of the datatype of the columns to reduce the occupied memory usuage\n",
    "            df[col]=pd.to_numeric(df[col], downcast=\"float\")\n",
    "        \n",
    "        if df[col].dtype == \"int64\":\n",
    "            \n",
    "            df[col]=pd.to_numeric(df[col], downcast=\"integer\")\n",
    "            \n",
    "    \n",
    "    return df"
   ]
  },
  {
   "cell_type": "code",
   "execution_count": 9,
   "metadata": {},
   "outputs": [
    {
     "name": "stdout",
     "output_type": "stream",
     "text": [
      "<class 'pandas.core.frame.DataFrame'>\n",
      "RangeIndex: 89197 entries, 0 to 89196\n",
      "Data columns (total 10 columns):\n",
      " #   Column            Non-Null Count  Dtype  \n",
      "---  ------            --------------  -----  \n",
      " 0   row_id            89197 non-null  int32  \n",
      " 1   user_id           89197 non-null  int16  \n",
      " 2   category_id       89197 non-null  int8   \n",
      " 3   video_id          89197 non-null  int16  \n",
      " 4   age               89197 non-null  int8   \n",
      " 5   gender            89197 non-null  object \n",
      " 6   profession        89197 non-null  object \n",
      " 7   followers         89197 non-null  int16  \n",
      " 8   views             89197 non-null  int16  \n",
      " 9   engagement_score  89197 non-null  float32\n",
      "dtypes: float32(1), int16(4), int32(1), int8(2), object(2)\n",
      "memory usage: 2.9+ MB\n"
     ]
    }
   ],
   "source": [
    "df_train=memory_reduce(df_train)\n",
    "\n",
    "df_train.info()"
   ]
  },
  {
   "cell_type": "code",
   "execution_count": 10,
   "metadata": {},
   "outputs": [
    {
     "name": "stdout",
     "output_type": "stream",
     "text": [
      "<class 'pandas.core.frame.DataFrame'>\n",
      "RangeIndex: 11121 entries, 0 to 11120\n",
      "Data columns (total 9 columns):\n",
      " #   Column       Non-Null Count  Dtype \n",
      "---  ------       --------------  ----- \n",
      " 0   row_id       11121 non-null  int32 \n",
      " 1   user_id      11121 non-null  int16 \n",
      " 2   category_id  11121 non-null  int8  \n",
      " 3   video_id     11121 non-null  int16 \n",
      " 4   age          11121 non-null  int8  \n",
      " 5   gender       11121 non-null  object\n",
      " 6   profession   11121 non-null  object\n",
      " 7   followers    11121 non-null  int16 \n",
      " 8   views        11121 non-null  int16 \n",
      "dtypes: int16(4), int32(1), int8(2), object(2)\n",
      "memory usage: 325.9+ KB\n"
     ]
    }
   ],
   "source": [
    "df_test=memory_reduce(df_test)\n",
    "\n",
    "df_test.info()"
   ]
  },
  {
   "cell_type": "markdown",
   "metadata": {},
   "source": [
    "#### Observation\n",
    "\n",
    "* Memory usage of both the dataset have been reduced significantly."
   ]
  },
  {
   "cell_type": "code",
   "execution_count": 11,
   "metadata": {},
   "outputs": [
    {
     "data": {
      "text/plain": [
       "row_id              0\n",
       "user_id             0\n",
       "category_id         0\n",
       "video_id            0\n",
       "age                 0\n",
       "gender              0\n",
       "profession          0\n",
       "followers           0\n",
       "views               0\n",
       "engagement_score    0\n",
       "dtype: int64"
      ]
     },
     "execution_count": 11,
     "metadata": {},
     "output_type": "execute_result"
    }
   ],
   "source": [
    "\"\"\" checking null values present in this train dataset or not \"\"\"\n",
    "\n",
    "df_train.isnull().sum()"
   ]
  },
  {
   "cell_type": "code",
   "execution_count": 12,
   "metadata": {},
   "outputs": [
    {
     "data": {
      "text/plain": [
       "row_id         0\n",
       "user_id        0\n",
       "category_id    0\n",
       "video_id       0\n",
       "age            0\n",
       "gender         0\n",
       "profession     0\n",
       "followers      0\n",
       "views          0\n",
       "dtype: int64"
      ]
     },
     "execution_count": 12,
     "metadata": {},
     "output_type": "execute_result"
    }
   ],
   "source": [
    "\"\"\" checking null values present in this test dataset or not \"\"\"\n",
    "\n",
    "df_test.isnull().sum()"
   ]
  },
  {
   "cell_type": "markdown",
   "metadata": {},
   "source": [
    "* __There are no null values present in both the datasets.__"
   ]
  },
  {
   "cell_type": "markdown",
   "metadata": {},
   "source": [
    "### Step 4: Exploratory Data Analysis"
   ]
  },
  {
   "cell_type": "code",
   "execution_count": 13,
   "metadata": {},
   "outputs": [
    {
     "data": {
      "text/plain": [
       "Index(['row_id', 'user_id', 'category_id', 'video_id', 'age', 'gender',\n",
       "       'profession', 'followers', 'views', 'engagement_score'],\n",
       "      dtype='object')"
      ]
     },
     "execution_count": 13,
     "metadata": {},
     "output_type": "execute_result"
    }
   ],
   "source": [
    "df_train.columns"
   ]
  },
  {
   "cell_type": "code",
   "execution_count": 14,
   "metadata": {},
   "outputs": [
    {
     "data": {
      "text/html": [
       "<div>\n",
       "<style scoped>\n",
       "    .dataframe tbody tr th:only-of-type {\n",
       "        vertical-align: middle;\n",
       "    }\n",
       "\n",
       "    .dataframe tbody tr th {\n",
       "        vertical-align: top;\n",
       "    }\n",
       "\n",
       "    .dataframe thead th {\n",
       "        text-align: right;\n",
       "    }\n",
       "</style>\n",
       "<table border=\"1\" class=\"dataframe\">\n",
       "  <thead>\n",
       "    <tr style=\"text-align: right;\">\n",
       "      <th></th>\n",
       "      <th>row_id</th>\n",
       "      <th>user_id</th>\n",
       "      <th>category_id</th>\n",
       "      <th>video_id</th>\n",
       "      <th>age</th>\n",
       "      <th>gender</th>\n",
       "      <th>profession</th>\n",
       "      <th>followers</th>\n",
       "      <th>views</th>\n",
       "      <th>engagement_score</th>\n",
       "    </tr>\n",
       "  </thead>\n",
       "  <tbody>\n",
       "    <tr>\n",
       "      <th>0</th>\n",
       "      <td>1</td>\n",
       "      <td>19990</td>\n",
       "      <td>37</td>\n",
       "      <td>128</td>\n",
       "      <td>24</td>\n",
       "      <td>Male</td>\n",
       "      <td>Student</td>\n",
       "      <td>180</td>\n",
       "      <td>1000</td>\n",
       "      <td>4.33</td>\n",
       "    </tr>\n",
       "    <tr>\n",
       "      <th>1</th>\n",
       "      <td>2</td>\n",
       "      <td>5304</td>\n",
       "      <td>32</td>\n",
       "      <td>132</td>\n",
       "      <td>14</td>\n",
       "      <td>Female</td>\n",
       "      <td>Student</td>\n",
       "      <td>330</td>\n",
       "      <td>714</td>\n",
       "      <td>1.79</td>\n",
       "    </tr>\n",
       "    <tr>\n",
       "      <th>2</th>\n",
       "      <td>3</td>\n",
       "      <td>1840</td>\n",
       "      <td>12</td>\n",
       "      <td>24</td>\n",
       "      <td>19</td>\n",
       "      <td>Male</td>\n",
       "      <td>Student</td>\n",
       "      <td>180</td>\n",
       "      <td>138</td>\n",
       "      <td>4.35</td>\n",
       "    </tr>\n",
       "    <tr>\n",
       "      <th>3</th>\n",
       "      <td>4</td>\n",
       "      <td>12597</td>\n",
       "      <td>23</td>\n",
       "      <td>112</td>\n",
       "      <td>19</td>\n",
       "      <td>Male</td>\n",
       "      <td>Student</td>\n",
       "      <td>220</td>\n",
       "      <td>613</td>\n",
       "      <td>3.77</td>\n",
       "    </tr>\n",
       "    <tr>\n",
       "      <th>4</th>\n",
       "      <td>5</td>\n",
       "      <td>13626</td>\n",
       "      <td>23</td>\n",
       "      <td>112</td>\n",
       "      <td>27</td>\n",
       "      <td>Male</td>\n",
       "      <td>Working Professional</td>\n",
       "      <td>220</td>\n",
       "      <td>613</td>\n",
       "      <td>3.13</td>\n",
       "    </tr>\n",
       "  </tbody>\n",
       "</table>\n",
       "</div>"
      ],
      "text/plain": [
       "   row_id  user_id  category_id  video_id  age  gender            profession  \\\n",
       "0       1    19990           37       128   24    Male               Student   \n",
       "1       2     5304           32       132   14  Female               Student   \n",
       "2       3     1840           12        24   19    Male               Student   \n",
       "3       4    12597           23       112   19    Male               Student   \n",
       "4       5    13626           23       112   27    Male  Working Professional   \n",
       "\n",
       "   followers  views  engagement_score  \n",
       "0        180   1000              4.33  \n",
       "1        330    714              1.79  \n",
       "2        180    138              4.35  \n",
       "3        220    613              3.77  \n",
       "4        220    613              3.13  "
      ]
     },
     "execution_count": 14,
     "metadata": {},
     "output_type": "execute_result"
    }
   ],
   "source": [
    "df_train.head()"
   ]
  },
  {
   "cell_type": "markdown",
   "metadata": {},
   "source": [
    "### Analysis the different features"
   ]
  },
  {
   "cell_type": "markdown",
   "metadata": {},
   "source": [
    "#### Profession features"
   ]
  },
  {
   "cell_type": "code",
   "execution_count": 15,
   "metadata": {},
   "outputs": [
    {
     "data": {
      "text/plain": [
       "Student                 44638\n",
       "Other                   26840\n",
       "Working Professional    17719\n",
       "Name: profession, dtype: int64"
      ]
     },
     "execution_count": 15,
     "metadata": {},
     "output_type": "execute_result"
    }
   ],
   "source": [
    "df_train['profession'].value_counts()"
   ]
  },
  {
   "cell_type": "code",
   "execution_count": 16,
   "metadata": {},
   "outputs": [
    {
     "data": {
      "image/png": "[encoded data removed]",
      "text/plain": [
       "<Figure size 576x360 with 1 Axes>"
      ]
     },
     "metadata": {
      "needs_background": "light"
     },
     "output_type": "display_data"
    }
   ],
   "source": [
    "plt.figure(figsize=(8,5))\n",
    "sns.countplot('profession',data=df_train,palette='ocean')\n",
    "plt.title(\" Distribution of profession features for the Train dataset\")\n",
    "plt.grid()\n",
    "plt.show()"
   ]
  },
  {
   "cell_type": "markdown",
   "metadata": {},
   "source": [
    "#### Observation\n",
    "\n",
    "* We have 3 different types of professions in the train dataset (Student, Other, Working Professional)\n",
    "\n",
    "\n",
    "* Students are highly active with the videos followed by others.\n",
    "\n",
    "\n",
    "* Working professionals are less active"
   ]
  },
  {
   "cell_type": "markdown",
   "metadata": {},
   "source": [
    "#### Gender features"
   ]
  },
  {
   "cell_type": "code",
   "execution_count": 17,
   "metadata": {},
   "outputs": [
    {
     "data": {
      "text/plain": [
       "Male      52397\n",
       "Female    36800\n",
       "Name: gender, dtype: int64"
      ]
     },
     "execution_count": 17,
     "metadata": {},
     "output_type": "execute_result"
    }
   ],
   "source": [
    "df_train['gender'].value_counts()"
   ]
  },
  {
   "cell_type": "code",
   "execution_count": 18,
   "metadata": {},
   "outputs": [
    {
     "data": {
      "image/png": "[encoded data removed]",
      "text/plain": [
       "<Figure size 576x360 with 1 Axes>"
      ]
     },
     "metadata": {
      "needs_background": "light"
     },
     "output_type": "display_data"
    }
   ],
   "source": [
    "plt.figure(figsize=(8,5))\n",
    "sns.countplot('gender', data=df_train, palette='ocean')\n",
    "plt.title(\" Distribution of gender features for the Train dataset\")\n",
    "plt.grid()\n",
    "plt.show()"
   ]
  },
  {
   "cell_type": "markdown",
   "metadata": {},
   "source": [
    "#### Observation\n",
    "\n",
    "* Males are more active than females."
   ]
  },
  {
   "cell_type": "markdown",
   "metadata": {},
   "source": [
    "#### Age features"
   ]
  },
  {
   "cell_type": "code",
   "execution_count": 19,
   "metadata": {},
   "outputs": [
    {
     "data": {
      "text/plain": [
       "18    4870\n",
       "19    4528\n",
       "20    4399\n",
       "17    4356\n",
       "16    4014\n",
       "15    3875\n",
       "21    3722\n",
       "22    3576\n",
       "14    3086\n",
       "23    2971\n",
       "24    2915\n",
       "31    2796\n",
       "30    2781\n",
       "33    2756\n",
       "28    2687\n",
       "32    2687\n",
       "29    2602\n",
       "13    2588\n",
       "34    2541\n",
       "26    2507\n",
       "25    2463\n",
       "35    2422\n",
       "27    2301\n",
       "36    2003\n",
       "37    1816\n",
       "12    1776\n",
       "38    1480\n",
       "39    1238\n",
       "11    1171\n",
       "40    1066\n",
       "41     834\n",
       "10     752\n",
       "42     675\n",
       "43     592\n",
       "44     449\n",
       "46     343\n",
       "45     340\n",
       "47     264\n",
       "48     197\n",
       "50     172\n",
       "49     131\n",
       "51      97\n",
       "53      81\n",
       "52      66\n",
       "54      51\n",
       "55      48\n",
       "57      40\n",
       "56      24\n",
       "63       8\n",
       "58       8\n",
       "68       6\n",
       "66       5\n",
       "64       5\n",
       "59       4\n",
       "62       3\n",
       "60       3\n",
       "61       3\n",
       "67       3\n",
       "Name: age, dtype: int64"
      ]
     },
     "execution_count": 19,
     "metadata": {},
     "output_type": "execute_result"
    }
   ],
   "source": [
    "df_train['age'].value_counts()"
   ]
  },
  {
   "cell_type": "code",
   "execution_count": 20,
   "metadata": {},
   "outputs": [
    {
     "data": {
      "image/png": "[encoded data removed]",
      "text/plain": [
       "<Figure size 3168x648 with 1 Axes>"
      ]
     },
     "metadata": {
      "needs_background": "light"
     },
     "output_type": "display_data"
    }
   ],
   "source": [
    "plt.figure(figsize=(44,9))\n",
    "\n",
    "sns.countplot('age', data=df_train, palette='ocean')\n",
    "\n",
    "plt.title(\" Distribution of age features for the Train dataset\")\n",
    "plt.grid()\n",
    "plt.show()"
   ]
  },
  {
   "cell_type": "markdown",
   "metadata": {},
   "source": [
    "#### Observation\n",
    "\n",
    "* Primarily between 14 to 24 age group peoples are highly active with the videos.\n",
    "\n",
    "\n",
    "* Between 28 to 34 age group peoples are also active more with the videos, but not like the 14 to 24 age group."
   ]
  },
  {
   "cell_type": "markdown",
   "metadata": {},
   "source": [
    "#### Views features"
   ]
  },
  {
   "cell_type": "code",
   "execution_count": 21,
   "metadata": {},
   "outputs": [
    {
     "data": {
      "text/plain": [
       "628     9090\n",
       "229     8104\n",
       "317     4880\n",
       "369     4679\n",
       "909     4043\n",
       "138     3889\n",
       "180     3766\n",
       "781     3678\n",
       "840     3533\n",
       "462     3264\n",
       "714     2712\n",
       "613     2671\n",
       "444     2241\n",
       "689     2178\n",
       "662     2164\n",
       "819     1886\n",
       "467     1885\n",
       "156     1855\n",
       "621     1845\n",
       "990     1810\n",
       "617     1543\n",
       "362     1399\n",
       "89      1339\n",
       "414     1309\n",
       "44      1217\n",
       "884     1208\n",
       "568     1156\n",
       "309     1103\n",
       "862     1065\n",
       "178     1025\n",
       "134      986\n",
       "1000     962\n",
       "52       916\n",
       "892      702\n",
       "72       545\n",
       "396      536\n",
       "806      534\n",
       "900      458\n",
       "709      366\n",
       "95       227\n",
       "636      214\n",
       "30       167\n",
       "248       47\n",
       "Name: views, dtype: int64"
      ]
     },
     "execution_count": 21,
     "metadata": {},
     "output_type": "execute_result"
    }
   ],
   "source": [
    "df_train['views'].value_counts()"
   ]
  },
  {
   "cell_type": "code",
   "execution_count": 22,
   "metadata": {},
   "outputs": [
    {
     "data": {
      "image/png": "[encoded data removed]",
      "text/plain": [
       "<Figure size 864x432 with 1 Axes>"
      ]
     },
     "metadata": {
      "needs_background": "light"
     },
     "output_type": "display_data"
    }
   ],
   "source": [
    "plt.subplots(figsize=(12,6))\n",
    "sns.countplot(x = 'views' , data = df_train )\n",
    "plt.title(\" Distribution of views feature for the Train dataset\")\n",
    "plt.grid()\n",
    "plt.show()\n"
   ]
  },
  {
   "cell_type": "markdown",
   "metadata": {},
   "source": [
    "#### Observation\n",
    "\n",
    "* From this plot it is quite difficult to analyze,  so we will try pdf and cdf in this features"
   ]
  },
  {
   "cell_type": "code",
   "execution_count": 23,
   "metadata": {},
   "outputs": [
    {
     "data": {
      "text/plain": [
       "43"
      ]
     },
     "execution_count": 23,
     "metadata": {},
     "output_type": "execute_result"
    }
   ],
   "source": [
    "views = df_train['views'].value_counts()\n",
    "\n",
    "len(views)"
   ]
  },
  {
   "cell_type": "code",
   "execution_count": 24,
   "metadata": {},
   "outputs": [
    {
     "data": {
      "image/png": "[encoded data removed]",
      "text/plain": [
       "<Figure size 432x288 with 1 Axes>"
      ]
     },
     "metadata": {
      "needs_background": "light"
     },
     "output_type": "display_data"
    }
   ],
   "source": [
    "pdf = views.values/sum(views.values)\n",
    "cdf = np.cumsum(pdf)\n",
    "\n",
    "plt.plot(pdf)\n",
    "plt.plot(cdf)\n",
    "plt.legend(['PDF', 'CDF'])\n",
    "plt.title('PDF & CDF plot for views features for Train dataset')\n",
    "plt.xlabel(\"Occurance\")\n",
    "plt.grid()\n",
    "plt.show()\n"
   ]
  },
  {
   "cell_type": "markdown",
   "metadata": {},
   "source": [
    "#### Observation\n",
    "\n",
    "* Around 34 views have occerence around 94%"
   ]
  },
  {
   "cell_type": "markdown",
   "metadata": {},
   "source": [
    "#### Followers features"
   ]
  },
  {
   "cell_type": "code",
   "execution_count": 25,
   "metadata": {},
   "outputs": [
    {
     "data": {
      "text/plain": [
       "230    16477\n",
       "240    14767\n",
       "280     7559\n",
       "180     7092\n",
       "270     6965\n",
       "250     5533\n",
       "320     5146\n",
       "340     4941\n",
       "210     4038\n",
       "260     3340\n",
       "220     2838\n",
       "330     2712\n",
       "290     2178\n",
       "160     1885\n",
       "360     1810\n",
       "200     1680\n",
       "190      236\n",
       "Name: followers, dtype: int64"
      ]
     },
     "execution_count": 25,
     "metadata": {},
     "output_type": "execute_result"
    }
   ],
   "source": [
    "df_train['followers'].value_counts()"
   ]
  },
  {
   "cell_type": "code",
   "execution_count": 26,
   "metadata": {},
   "outputs": [
    {
     "data": {
      "image/png": "[encoded data removed]",
      "text/plain": [
       "<Figure size 864x432 with 1 Axes>"
      ]
     },
     "metadata": {
      "needs_background": "light"
     },
     "output_type": "display_data"
    }
   ],
   "source": [
    "plt.subplots(figsize=(12,6))\n",
    "sns.countplot(x = 'followers' , data = df_train )\n",
    "plt.title(\" Distribution of followers features for the Train dataset\")\n",
    "plt.grid()\n",
    "plt.show()\n"
   ]
  },
  {
   "cell_type": "markdown",
   "metadata": {},
   "source": [
    "#### Observation\n",
    "\n",
    "* 230 and 240 followers are more important is this dataset."
   ]
  },
  {
   "cell_type": "code",
   "execution_count": 27,
   "metadata": {},
   "outputs": [
    {
     "data": {
      "text/plain": [
       "17"
      ]
     },
     "execution_count": 27,
     "metadata": {},
     "output_type": "execute_result"
    }
   ],
   "source": [
    "followers = df_train['followers'].value_counts()\n",
    "\n",
    "len(followers)"
   ]
  },
  {
   "cell_type": "code",
   "execution_count": 28,
   "metadata": {},
   "outputs": [
    {
     "data": {
      "image/png": "[encoded data removed]",
      "text/plain": [
       "<Figure size 432x288 with 1 Axes>"
      ]
     },
     "metadata": {
      "needs_background": "light"
     },
     "output_type": "display_data"
    }
   ],
   "source": [
    "pdf = followers.values/sum(followers.values)\n",
    "cdf = np.cumsum(pdf)\n",
    "\n",
    "plt.plot(pdf)\n",
    "plt.plot(cdf)\n",
    "plt.legend(['PDF', 'CDF'])\n",
    "plt.title('PDF & CDF plot for followers features for Train dataset')\n",
    "plt.xlabel(\"Occurance\")\n",
    "plt.grid()\n",
    "plt.show()\n"
   ]
  },
  {
   "cell_type": "markdown",
   "metadata": {},
   "source": [
    "#### Observation\n",
    "\n",
    "* Around 14 followers have highest number of occurance"
   ]
  },
  {
   "cell_type": "markdown",
   "metadata": {},
   "source": [
    "#### category_id features"
   ]
  },
  {
   "cell_type": "code",
   "execution_count": 29,
   "metadata": {},
   "outputs": [
    {
     "data": {
      "text/plain": [
       "5     8104\n",
       "8     6313\n",
       "25    4880\n",
       "19    4679\n",
       "21    4043\n",
       "12    3889\n",
       "11    3766\n",
       "4     3678\n",
       "34    3297\n",
       "16    3264\n",
       "13    2777\n",
       "32    2712\n",
       "23    2671\n",
       "18    2241\n",
       "42    2178\n",
       "15    2164\n",
       "9     1886\n",
       "7     1885\n",
       "31    1855\n",
       "3     1845\n",
       "1     1810\n",
       "6     1399\n",
       "39    1339\n",
       "28    1309\n",
       "10    1217\n",
       "17    1208\n",
       "26    1156\n",
       "27    1103\n",
       "36    1025\n",
       "43    1019\n",
       "35     986\n",
       "37     962\n",
       "29     916\n",
       "20     702\n",
       "30     548\n",
       "41     545\n",
       "14     536\n",
       "38     534\n",
       "24     524\n",
       "33     517\n",
       "40     458\n",
       "22     366\n",
       "46     236\n",
       "45     227\n",
       "44     214\n",
       "2      167\n",
       "47      47\n",
       "Name: category_id, dtype: int64"
      ]
     },
     "execution_count": 29,
     "metadata": {},
     "output_type": "execute_result"
    }
   ],
   "source": [
    "df_train['category_id'].value_counts()"
   ]
  },
  {
   "cell_type": "code",
   "execution_count": 30,
   "metadata": {},
   "outputs": [
    {
     "data": {
      "image/png": "[encoded data removed]",
      "text/plain": [
       "<Figure size 864x432 with 1 Axes>"
      ]
     },
     "metadata": {
      "needs_background": "light"
     },
     "output_type": "display_data"
    }
   ],
   "source": [
    "plt.subplots(figsize=(12,6))\n",
    "sns.countplot(x = 'category_id' , data = df_train )\n",
    "plt.title(\" Distribution of category_id features for the Train dataset\")\n",
    "plt.grid()\n",
    "plt.show()\n"
   ]
  },
  {
   "cell_type": "markdown",
   "metadata": {},
   "source": [
    "#### Observation\n",
    "\n",
    "* Catagory 5 has very high occurence than others followed by 8\n",
    "\n",
    "* Few more catagories have high occurence"
   ]
  },
  {
   "cell_type": "code",
   "execution_count": null,
   "metadata": {},
   "outputs": [],
   "source": []
  },
  {
   "cell_type": "markdown",
   "metadata": {},
   "source": [
    "### Step 5: Building Model"
   ]
  },
  {
   "cell_type": "code",
   "execution_count": 31,
   "metadata": {},
   "outputs": [
    {
     "data": {
      "text/html": [
       "<div>\n",
       "<style scoped>\n",
       "    .dataframe tbody tr th:only-of-type {\n",
       "        vertical-align: middle;\n",
       "    }\n",
       "\n",
       "    .dataframe tbody tr th {\n",
       "        vertical-align: top;\n",
       "    }\n",
       "\n",
       "    .dataframe thead th {\n",
       "        text-align: right;\n",
       "    }\n",
       "</style>\n",
       "<table border=\"1\" class=\"dataframe\">\n",
       "  <thead>\n",
       "    <tr style=\"text-align: right;\">\n",
       "      <th></th>\n",
       "      <th>row_id</th>\n",
       "      <th>user_id</th>\n",
       "      <th>category_id</th>\n",
       "      <th>video_id</th>\n",
       "      <th>age</th>\n",
       "      <th>gender</th>\n",
       "      <th>profession</th>\n",
       "      <th>followers</th>\n",
       "      <th>views</th>\n",
       "      <th>engagement_score</th>\n",
       "    </tr>\n",
       "  </thead>\n",
       "  <tbody>\n",
       "    <tr>\n",
       "      <th>0</th>\n",
       "      <td>1</td>\n",
       "      <td>19990</td>\n",
       "      <td>37</td>\n",
       "      <td>128</td>\n",
       "      <td>24</td>\n",
       "      <td>Male</td>\n",
       "      <td>Student</td>\n",
       "      <td>180</td>\n",
       "      <td>1000</td>\n",
       "      <td>4.33</td>\n",
       "    </tr>\n",
       "    <tr>\n",
       "      <th>1</th>\n",
       "      <td>2</td>\n",
       "      <td>5304</td>\n",
       "      <td>32</td>\n",
       "      <td>132</td>\n",
       "      <td>14</td>\n",
       "      <td>Female</td>\n",
       "      <td>Student</td>\n",
       "      <td>330</td>\n",
       "      <td>714</td>\n",
       "      <td>1.79</td>\n",
       "    </tr>\n",
       "    <tr>\n",
       "      <th>2</th>\n",
       "      <td>3</td>\n",
       "      <td>1840</td>\n",
       "      <td>12</td>\n",
       "      <td>24</td>\n",
       "      <td>19</td>\n",
       "      <td>Male</td>\n",
       "      <td>Student</td>\n",
       "      <td>180</td>\n",
       "      <td>138</td>\n",
       "      <td>4.35</td>\n",
       "    </tr>\n",
       "    <tr>\n",
       "      <th>3</th>\n",
       "      <td>4</td>\n",
       "      <td>12597</td>\n",
       "      <td>23</td>\n",
       "      <td>112</td>\n",
       "      <td>19</td>\n",
       "      <td>Male</td>\n",
       "      <td>Student</td>\n",
       "      <td>220</td>\n",
       "      <td>613</td>\n",
       "      <td>3.77</td>\n",
       "    </tr>\n",
       "    <tr>\n",
       "      <th>4</th>\n",
       "      <td>5</td>\n",
       "      <td>13626</td>\n",
       "      <td>23</td>\n",
       "      <td>112</td>\n",
       "      <td>27</td>\n",
       "      <td>Male</td>\n",
       "      <td>Working Professional</td>\n",
       "      <td>220</td>\n",
       "      <td>613</td>\n",
       "      <td>3.13</td>\n",
       "    </tr>\n",
       "  </tbody>\n",
       "</table>\n",
       "</div>"
      ],
      "text/plain": [
       "   row_id  user_id  category_id  video_id  age  gender            profession  \\\n",
       "0       1    19990           37       128   24    Male               Student   \n",
       "1       2     5304           32       132   14  Female               Student   \n",
       "2       3     1840           12        24   19    Male               Student   \n",
       "3       4    12597           23       112   19    Male               Student   \n",
       "4       5    13626           23       112   27    Male  Working Professional   \n",
       "\n",
       "   followers  views  engagement_score  \n",
       "0        180   1000              4.33  \n",
       "1        330    714              1.79  \n",
       "2        180    138              4.35  \n",
       "3        220    613              3.77  \n",
       "4        220    613              3.13  "
      ]
     },
     "execution_count": 31,
     "metadata": {},
     "output_type": "execute_result"
    }
   ],
   "source": [
    "df_train.head()"
   ]
  },
  {
   "cell_type": "code",
   "execution_count": 33,
   "metadata": {},
   "outputs": [],
   "source": [
    "\"\"\"\n",
    "We have used to transform non-numerical labels  to numerical labels.\n",
    "In this project we have only two columns as object type (Gender and Profession)\n",
    "\n",
    "\"\"\"\n",
    "#Refernece https://www.analyticsvidhya.com/Trying Different Models.zip\n",
    "\n",
    "# Labelencoding\n",
    "le = LabelEncoder()\n",
    "\n",
    "var_mod = df_train.select_dtypes(include='object').columns\n",
    "\n",
    "for i in var_mod:\n",
    "    df_train[i] = le.fit_transform(df_train[i])\n",
    "    \n",
    "for i in var_mod:\n",
    "    df_test[i] = le.fit_transform(df_test[i])"
   ]
  },
  {
   "cell_type": "markdown",
   "metadata": {},
   "source": [
    "* __Encoding the required columns from training and test dataset__"
   ]
  },
  {
   "cell_type": "code",
   "execution_count": 35,
   "metadata": {},
   "outputs": [
    {
     "data": {
      "text/plain": [
       "Index(['row_id', 'user_id', 'category_id', 'video_id', 'age', 'gender',\n",
       "       'profession', 'followers', 'views', 'engagement_score'],\n",
       "      dtype='object')"
      ]
     },
     "execution_count": 35,
     "metadata": {},
     "output_type": "execute_result"
    }
   ],
   "source": [
    "df_train.columns"
   ]
  },
  {
   "cell_type": "code",
   "execution_count": 36,
   "metadata": {},
   "outputs": [],
   "source": [
    "# Seperate Features and Target\n",
    "\n",
    "y = df_train['engagement_score']\n",
    "X = df_train.drop(['row_id', 'engagement_score'], axis=1)"
   ]
  },
  {
   "cell_type": "code",
   "execution_count": 37,
   "metadata": {},
   "outputs": [],
   "source": [
    "# 20% data as validation set\n",
    "X_train,X_valid,y_train,y_valid = train_test_split(X,y,test_size=0.2,random_state=42)"
   ]
  },
  {
   "cell_type": "code",
   "execution_count": 38,
   "metadata": {},
   "outputs": [
    {
     "data": {
      "text/plain": [
       "((71357, 8), (17840, 8), (71357,), (17840,))"
      ]
     },
     "execution_count": 38,
     "metadata": {},
     "output_type": "execute_result"
    }
   ],
   "source": [
    "X_train.shape,X_valid.shape,y_train.shape,y_valid.shape"
   ]
  },
  {
   "cell_type": "markdown",
   "metadata": {},
   "source": [
    "## ML models"
   ]
  },
  {
   "cell_type": "markdown",
   "metadata": {},
   "source": [
    "### Model 1 LightGBM "
   ]
  },
  {
   "cell_type": "code",
   "execution_count": 40,
   "metadata": {},
   "outputs": [
    {
     "name": "stdout",
     "output_type": "stream",
     "text": [
      "[LightGBM] [Warning] min_data_in_leaf is set=126, min_child_samples=20 will be ignored. Current value: min_data_in_leaf=126\n",
      "For learning rate 0.039, num_leaves 76 and min_data_in_leaf 126 the R2 score is 0.3629303229890699 \n",
      "********************************************************************************\n",
      "[LightGBM] [Warning] min_data_in_leaf is set=111, min_child_samples=20 will be ignored. Current value: min_data_in_leaf=111\n",
      "For learning rate 0.01, num_leaves 99 and min_data_in_leaf 111 the R2 score is 0.2998341020353186 \n",
      "********************************************************************************\n",
      "[LightGBM] [Warning] min_data_in_leaf is set=145, min_child_samples=20 will be ignored. Current value: min_data_in_leaf=145\n",
      "For learning rate 0.042, num_leaves 35 and min_data_in_leaf 145 the R2 score is 0.35860828929860133 \n",
      "********************************************************************************\n",
      "[LightGBM] [Warning] min_data_in_leaf is set=70, min_child_samples=20 will be ignored. Current value: min_data_in_leaf=70\n",
      "For learning rate 0.05, num_leaves 77 and min_data_in_leaf 70 the R2 score is 0.36784826489187883 \n",
      "********************************************************************************\n",
      "[LightGBM] [Warning] min_data_in_leaf is set=63, min_child_samples=20 will be ignored. Current value: min_data_in_leaf=63\n",
      "For learning rate 0.098, num_leaves 48 and min_data_in_leaf 63 the R2 score is 0.37080007137050885 \n",
      "********************************************************************************\n",
      "[LightGBM] [Warning] min_data_in_leaf is set=85, min_child_samples=20 will be ignored. Current value: min_data_in_leaf=85\n",
      "For learning rate 0.083, num_leaves 115 and min_data_in_leaf 85 the R2 score is 0.37319893953243344 \n",
      "********************************************************************************\n",
      "[LightGBM] [Warning] min_data_in_leaf is set=82, min_child_samples=20 will be ignored. Current value: min_data_in_leaf=82\n",
      "For learning rate 0.006, num_leaves 133 and min_data_in_leaf 82 the R2 score is 0.24126349263187064 \n",
      "********************************************************************************\n",
      "[LightGBM] [Warning] min_data_in_leaf is set=136, min_child_samples=20 will be ignored. Current value: min_data_in_leaf=136\n",
      "For learning rate 0.011, num_leaves 84 and min_data_in_leaf 136 the R2 score is 0.30730979413002835 \n",
      "********************************************************************************\n",
      "[LightGBM] [Warning] min_data_in_leaf is set=100, min_child_samples=20 will be ignored. Current value: min_data_in_leaf=100\n",
      "For learning rate 0.023, num_leaves 144 and min_data_in_leaf 100 the R2 score is 0.35423428948754365 \n",
      "********************************************************************************\n",
      "[LightGBM] [Warning] min_data_in_leaf is set=72, min_child_samples=20 will be ignored. Current value: min_data_in_leaf=72\n",
      "For learning rate 0.035, num_leaves 46 and min_data_in_leaf 72 the R2 score is 0.3573047625615683 \n",
      "********************************************************************************\n",
      "[LightGBM] [Warning] min_data_in_leaf is set=91, min_child_samples=20 will be ignored. Current value: min_data_in_leaf=91\n",
      "For learning rate 0.015, num_leaves 147 and min_data_in_leaf 91 the R2 score is 0.33620453965486774 \n",
      "********************************************************************************\n",
      "[LightGBM] [Warning] min_data_in_leaf is set=90, min_child_samples=20 will be ignored. Current value: min_data_in_leaf=90\n",
      "For learning rate 0.049, num_leaves 138 and min_data_in_leaf 90 the R2 score is 0.36951897522467214 \n",
      "********************************************************************************\n",
      "[LightGBM] [Warning] min_data_in_leaf is set=119, min_child_samples=20 will be ignored. Current value: min_data_in_leaf=119\n",
      "For learning rate 0.067, num_leaves 49 and min_data_in_leaf 119 the R2 score is 0.3674123611647736 \n",
      "********************************************************************************\n",
      "[LightGBM] [Warning] min_data_in_leaf is set=140, min_child_samples=20 will be ignored. Current value: min_data_in_leaf=140\n",
      "For learning rate 0.01, num_leaves 118 and min_data_in_leaf 140 the R2 score is 0.3006943151888639 \n",
      "********************************************************************************\n",
      "[LightGBM] [Warning] min_data_in_leaf is set=115, min_child_samples=20 will be ignored. Current value: min_data_in_leaf=115\n",
      "For learning rate 0.089, num_leaves 124 and min_data_in_leaf 115 the R2 score is 0.3738038947492418 \n",
      "********************************************************************************\n",
      "[LightGBM] [Warning] min_data_in_leaf is set=92, min_child_samples=20 will be ignored. Current value: min_data_in_leaf=92\n",
      "For learning rate 0.089, num_leaves 91 and min_data_in_leaf 92 the R2 score is 0.3722839320259148 \n",
      "********************************************************************************\n",
      "[LightGBM] [Warning] min_data_in_leaf is set=78, min_child_samples=20 will be ignored. Current value: min_data_in_leaf=78\n",
      "For learning rate 0.073, num_leaves 104 and min_data_in_leaf 78 the R2 score is 0.3725864248996906 \n",
      "********************************************************************************\n",
      "[LightGBM] [Warning] min_data_in_leaf is set=93, min_child_samples=20 will be ignored. Current value: min_data_in_leaf=93\n",
      "For learning rate 0.029, num_leaves 95 and min_data_in_leaf 93 the R2 score is 0.3575102343146601 \n",
      "********************************************************************************\n",
      "[LightGBM] [Warning] min_data_in_leaf is set=114, min_child_samples=20 will be ignored. Current value: min_data_in_leaf=114\n",
      "For learning rate 0.002, num_leaves 61 and min_data_in_leaf 114 the R2 score is 0.10815082337939896 \n",
      "********************************************************************************\n",
      "[LightGBM] [Warning] min_data_in_leaf is set=100, min_child_samples=20 will be ignored. Current value: min_data_in_leaf=100\n",
      "For learning rate 0.029, num_leaves 130 and min_data_in_leaf 100 the R2 score is 0.3596357404745619 \n",
      "********************************************************************************\n",
      "[LightGBM] [Warning] min_data_in_leaf is set=137, min_child_samples=20 will be ignored. Current value: min_data_in_leaf=137\n",
      "For learning rate 0.072, num_leaves 63 and min_data_in_leaf 137 the R2 score is 0.3694732284588872 \n",
      "********************************************************************************\n",
      "[LightGBM] [Warning] min_data_in_leaf is set=92, min_child_samples=20 will be ignored. Current value: min_data_in_leaf=92\n",
      "For learning rate 0.09, num_leaves 69 and min_data_in_leaf 92 the R2 score is 0.37134277605050525 \n",
      "********************************************************************************\n",
      "[LightGBM] [Warning] min_data_in_leaf is set=59, min_child_samples=20 will be ignored. Current value: min_data_in_leaf=59\n",
      "For learning rate 0.052, num_leaves 137 and min_data_in_leaf 59 the R2 score is 0.3703139000692841 \n",
      "********************************************************************************\n",
      "[LightGBM] [Warning] min_data_in_leaf is set=140, min_child_samples=20 will be ignored. Current value: min_data_in_leaf=140\n",
      "For learning rate 0.046, num_leaves 136 and min_data_in_leaf 140 the R2 score is 0.36825343388766285 \n",
      "********************************************************************************\n",
      "[LightGBM] [Warning] min_data_in_leaf is set=79, min_child_samples=20 will be ignored. Current value: min_data_in_leaf=79\n",
      "For learning rate 0.058, num_leaves 77 and min_data_in_leaf 79 the R2 score is 0.3684266390566867 \n",
      "********************************************************************************\n",
      "[LightGBM] [Warning] min_data_in_leaf is set=131, min_child_samples=20 will be ignored. Current value: min_data_in_leaf=131\n",
      "For learning rate 0.013, num_leaves 135 and min_data_in_leaf 131 the R2 score is 0.3248141511957877 \n",
      "********************************************************************************\n",
      "[LightGBM] [Warning] min_data_in_leaf is set=102, min_child_samples=20 will be ignored. Current value: min_data_in_leaf=102\n",
      "For learning rate 0.038, num_leaves 134 and min_data_in_leaf 102 the R2 score is 0.3655557383406022 \n",
      "********************************************************************************\n",
      "[LightGBM] [Warning] min_data_in_leaf is set=119, min_child_samples=20 will be ignored. Current value: min_data_in_leaf=119\n"
     ]
    },
    {
     "name": "stdout",
     "output_type": "stream",
     "text": [
      "For learning rate 0.002, num_leaves 130 and min_data_in_leaf 119 the R2 score is 0.11291783476263684 \n",
      "********************************************************************************\n",
      "[LightGBM] [Warning] min_data_in_leaf is set=112, min_child_samples=20 will be ignored. Current value: min_data_in_leaf=112\n",
      "For learning rate 0.099, num_leaves 30 and min_data_in_leaf 112 the R2 score is 0.3682731849216885 \n",
      "********************************************************************************\n",
      "[LightGBM] [Warning] min_data_in_leaf is set=103, min_child_samples=20 will be ignored. Current value: min_data_in_leaf=103\n",
      "For learning rate 0.079, num_leaves 128 and min_data_in_leaf 103 the R2 score is 0.3726775934039107 \n",
      "********************************************************************************\n",
      "[LightGBM] [Warning] min_data_in_leaf is set=93, min_child_samples=20 will be ignored. Current value: min_data_in_leaf=93\n",
      "For learning rate 0.055, num_leaves 89 and min_data_in_leaf 93 the R2 score is 0.36830472473851106 \n",
      "********************************************************************************\n",
      "[LightGBM] [Warning] min_data_in_leaf is set=137, min_child_samples=20 will be ignored. Current value: min_data_in_leaf=137\n",
      "For learning rate 0.085, num_leaves 121 and min_data_in_leaf 137 the R2 score is 0.37329518574943277 \n",
      "********************************************************************************\n",
      "[LightGBM] [Warning] min_data_in_leaf is set=74, min_child_samples=20 will be ignored. Current value: min_data_in_leaf=74\n",
      "For learning rate 0.067, num_leaves 32 and min_data_in_leaf 74 the R2 score is 0.36520621840967027 \n",
      "********************************************************************************\n",
      "[LightGBM] [Warning] min_data_in_leaf is set=89, min_child_samples=20 will be ignored. Current value: min_data_in_leaf=89\n",
      "For learning rate 0.081, num_leaves 142 and min_data_in_leaf 89 the R2 score is 0.37364209519311775 \n",
      "********************************************************************************\n",
      "[LightGBM] [Warning] min_data_in_leaf is set=78, min_child_samples=20 will be ignored. Current value: min_data_in_leaf=78\n",
      "For learning rate 0.063, num_leaves 47 and min_data_in_leaf 78 the R2 score is 0.36707069182074537 \n",
      "********************************************************************************\n",
      "[LightGBM] [Warning] min_data_in_leaf is set=145, min_child_samples=20 will be ignored. Current value: min_data_in_leaf=145\n",
      "For learning rate 0.087, num_leaves 65 and min_data_in_leaf 145 the R2 score is 0.36992900533090634 \n",
      "********************************************************************************\n",
      "[LightGBM] [Warning] min_data_in_leaf is set=137, min_child_samples=20 will be ignored. Current value: min_data_in_leaf=137\n",
      "For learning rate 0.078, num_leaves 36 and min_data_in_leaf 137 the R2 score is 0.3667955549509999 \n",
      "********************************************************************************\n",
      "[LightGBM] [Warning] min_data_in_leaf is set=129, min_child_samples=20 will be ignored. Current value: min_data_in_leaf=129\n",
      "For learning rate 0.017, num_leaves 122 and min_data_in_leaf 129 the R2 score is 0.3412680104723559 \n",
      "********************************************************************************\n",
      "[LightGBM] [Warning] min_data_in_leaf is set=88, min_child_samples=20 will be ignored. Current value: min_data_in_leaf=88\n",
      "For learning rate 0.079, num_leaves 117 and min_data_in_leaf 88 the R2 score is 0.3733926915231428 \n",
      "********************************************************************************\n",
      "[LightGBM] [Warning] min_data_in_leaf is set=83, min_child_samples=20 will be ignored. Current value: min_data_in_leaf=83\n",
      "For learning rate 0.061, num_leaves 97 and min_data_in_leaf 83 the R2 score is 0.3697205681759701 \n",
      "********************************************************************************\n"
     ]
    }
   ],
   "source": [
    "# We are training our model with multiple parameter values to get the best parameter to be used for the model.\n",
    "\n",
    "# We are randomly creating values to chose the best model out of it.\n",
    "\n",
    "\n",
    "for i in range(40):\n",
    "    lr = np.round(np.random.rand()/10,3)\n",
    "    num_leaves = np.random.randint(30,150)\n",
    "    min_data_in_leaf = np.random.randint(50,150)\n",
    "\n",
    "    lgb = LGBMRegressor( learning_rate=lr ,\n",
    "                            num_leaves=num_leaves ,\n",
    "                            min_data_in_leaf=min_data_in_leaf)\n",
    "\n",
    "    lgb.fit(X_train,y_train)\n",
    "\n",
    "    # After training the model, we are trying to predict the model on X_val to check it's accuracy\n",
    "    y_pred = lgb.predict(X_valid)\n",
    "\n",
    "    # Now that it has predicted the values for X_val, we are calculating it's r2 score\n",
    "    R2= r2_score(y_valid,y_pred)\n",
    "    \n",
    "    print(f\"For learning rate {lr}, num_leaves {num_leaves} and min_data_in_leaf {min_data_in_leaf} the R2 score is {R2} \")\n",
    "    print('*'*80)"
   ]
  },
  {
   "cell_type": "code",
   "execution_count": 41,
   "metadata": {},
   "outputs": [
    {
     "name": "stdout",
     "output_type": "stream",
     "text": [
      "[LightGBM] [Warning] min_data_in_leaf is set=115, min_child_samples=20 will be ignored. Current value: min_data_in_leaf=115\n",
      "For learning rate 0.089, num_leaves 124 and min_data_in_leaf 115 the R2 score is 0.3738038947492418 \n"
     ]
    }
   ],
   "source": [
    "# After running several combinations, we found these parameter values to give best result\n",
    "\n",
    "learning_rate = 0.089\n",
    "num_leaves = 124\n",
    "min_data_in_leaf = 115\n",
    "\n",
    "\n",
    "# Now that we have found the best model which has the lowest RMSE score, we are using that parameter values to retrain the model.\n",
    "\n",
    "lgb = LGBMRegressor( learning_rate=learning_rate ,\n",
    "                           num_leaves=num_leaves ,\n",
    "                           min_data_in_leaf=min_data_in_leaf)\n",
    "\n",
    "lgb.fit(X_train, y_train)\n",
    "\n",
    "y_pred = lgb.predict(X_valid)\n",
    "\n",
    "\n",
    "# Now that it has predicted the values for X_val, we are calculating it's rmse\n",
    "R2= r2_score(y_valid,y_pred)\n",
    "print(f\"For learning rate {learning_rate}, num_leaves {num_leaves} and min_data_in_leaf {min_data_in_leaf} the R2 score is {R2} \")"
   ]
  },
  {
   "cell_type": "markdown",
   "metadata": {},
   "source": [
    "### Model 2 CATBOOST"
   ]
  },
  {
   "cell_type": "code",
   "execution_count": 42,
   "metadata": {},
   "outputs": [
    {
     "name": "stdout",
     "output_type": "stream",
     "text": [
      "For learning rate 0.092 and min_data_in_leaf 124 the R2 score is 0.3621756339845301 \n",
      "********************************************************************************\n",
      "For learning rate 0.04 and min_data_in_leaf 141 the R2 score is 0.3469809726962123 \n",
      "********************************************************************************\n",
      "For learning rate 0.042 and min_data_in_leaf 67 the R2 score is 0.34899845281009423 \n",
      "********************************************************************************\n",
      "For learning rate 0.025 and min_data_in_leaf 75 the R2 score is 0.33375769557221224 \n",
      "********************************************************************************\n",
      "For learning rate 0.065 and min_data_in_leaf 80 the R2 score is 0.3572127118632673 \n",
      "********************************************************************************\n",
      "For learning rate 0.025 and min_data_in_leaf 106 the R2 score is 0.33375769557221224 \n",
      "********************************************************************************\n",
      "For learning rate 0.079 and min_data_in_leaf 124 the R2 score is 0.3599098828157048 \n",
      "********************************************************************************\n",
      "For learning rate 0.063 and min_data_in_leaf 133 the R2 score is 0.35624954100440187 \n",
      "********************************************************************************\n",
      "For learning rate 0.098 and min_data_in_leaf 51 the R2 score is 0.36177504932572735 \n",
      "********************************************************************************\n",
      "For learning rate 0.011 and min_data_in_leaf 77 the R2 score is 0.29167311820676 \n",
      "********************************************************************************\n",
      "For learning rate 0.035 and min_data_in_leaf 99 the R2 score is 0.344734335424132 \n",
      "********************************************************************************\n",
      "For learning rate 0.027 and min_data_in_leaf 63 the R2 score is 0.3358812926876883 \n",
      "********************************************************************************\n",
      "For learning rate 0.035 and min_data_in_leaf 84 the R2 score is 0.344734335424132 \n",
      "********************************************************************************\n",
      "For learning rate 0.098 and min_data_in_leaf 149 the R2 score is 0.36177504932572735 \n",
      "********************************************************************************\n",
      "For learning rate 0.094 and min_data_in_leaf 65 the R2 score is 0.36096261976636856 \n",
      "********************************************************************************\n",
      "For learning rate 0.038 and min_data_in_leaf 67 the R2 score is 0.3464778302897805 \n",
      "********************************************************************************\n",
      "For learning rate 0.022 and min_data_in_leaf 72 the R2 score is 0.32864204439883504 \n",
      "********************************************************************************\n",
      "For learning rate 0.095 and min_data_in_leaf 100 the R2 score is 0.3615630653802311 \n",
      "********************************************************************************\n",
      "For learning rate 0.091 and min_data_in_leaf 140 the R2 score is 0.3605295037700913 \n",
      "********************************************************************************\n",
      "For learning rate 0.007 and min_data_in_leaf 148 the R2 score is 0.25172478509619656 \n",
      "********************************************************************************\n",
      "For learning rate 0.061 and min_data_in_leaf 115 the R2 score is 0.3562415217280248 \n",
      "********************************************************************************\n",
      "For learning rate 0.082 and min_data_in_leaf 73 the R2 score is 0.3597840833269921 \n",
      "********************************************************************************\n",
      "For learning rate 0.011 and min_data_in_leaf 145 the R2 score is 0.29167311820676 \n",
      "********************************************************************************\n",
      "For learning rate 0.064 and min_data_in_leaf 114 the R2 score is 0.35581468609242595 \n",
      "********************************************************************************\n",
      "For learning rate 0.094 and min_data_in_leaf 96 the R2 score is 0.36096261976636856 \n",
      "********************************************************************************\n",
      "For learning rate 0.097 and min_data_in_leaf 124 the R2 score is 0.3617542026298375 \n",
      "********************************************************************************\n",
      "For learning rate 0.087 and min_data_in_leaf 98 the R2 score is 0.36120914459436015 \n",
      "********************************************************************************\n",
      "For learning rate 0.066 and min_data_in_leaf 62 the R2 score is 0.3564759566256729 \n",
      "********************************************************************************\n",
      "For learning rate 0.015 and min_data_in_leaf 50 the R2 score is 0.31081909576648026 \n",
      "********************************************************************************\n",
      "For learning rate 0.093 and min_data_in_leaf 134 the R2 score is 0.36135616224032363 \n",
      "********************************************************************************\n",
      "For learning rate 0.012 and min_data_in_leaf 104 the R2 score is 0.2973026414474833 \n",
      "********************************************************************************\n",
      "For learning rate 0.035 and min_data_in_leaf 73 the R2 score is 0.344734335424132 \n",
      "********************************************************************************\n",
      "For learning rate 0.004 and min_data_in_leaf 96 the R2 score is 0.1904174791057176 \n",
      "********************************************************************************\n",
      "For learning rate 0.002 and min_data_in_leaf 60 the R2 score is 0.11813189737950347 \n",
      "********************************************************************************\n",
      "For learning rate 0.087 and min_data_in_leaf 77 the R2 score is 0.36120914459436015 \n",
      "********************************************************************************\n",
      "For learning rate 0.034 and min_data_in_leaf 60 the R2 score is 0.343209960022972 \n",
      "********************************************************************************\n",
      "For learning rate 0.088 and min_data_in_leaf 53 the R2 score is 0.36042946216678495 \n",
      "********************************************************************************\n",
      "For learning rate 0.092 and min_data_in_leaf 130 the R2 score is 0.3621756339845301 \n",
      "********************************************************************************\n",
      "For learning rate 0.07 and min_data_in_leaf 121 the R2 score is 0.3576335036512731 \n",
      "********************************************************************************\n",
      "For learning rate 0.093 and min_data_in_leaf 123 the R2 score is 0.36135616224032363 \n",
      "********************************************************************************\n"
     ]
    }
   ],
   "source": [
    "# We are training our model with multiple parameter values to get the best parameter to be used for the model.\n",
    "\n",
    "# We are randomly creating values to chose the best model out of it.\n",
    "for i in range(40):\n",
    "    lr = np.round(np.random.rand()/10,3)\n",
    "    min_data_in_leaf = np.random.randint(50,150)\n",
    "\n",
    "    cbr = CatBoostRegressor(learning_rate=lr ,\n",
    "                        min_data_in_leaf=min_data_in_leaf,\n",
    "                        logging_level=\"Silent\", iterations=130)\n",
    "\n",
    "    cbr.fit(X_train,y_train)\n",
    "\n",
    "    # After training the model, we are trying to predict the model on X_val to check it's accuracy\n",
    "    y_pred = cbr.predict(X_valid)\n",
    "\n",
    "    # Now that it has predicted the values for X_val, we are calculating it's r2 score\n",
    "    R2= r2_score(y_valid,y_pred)\n",
    "    \n",
    "    print(f\"For learning rate {lr} and min_data_in_leaf {min_data_in_leaf} the R2 score is {R2} \")\n",
    "    print('*'*80)"
   ]
  },
  {
   "cell_type": "code",
   "execution_count": 43,
   "metadata": {},
   "outputs": [
    {
     "name": "stdout",
     "output_type": "stream",
     "text": [
      "For learning rate 0.093 and min_data_in_leaf 130 the R2 score is 0.3756094352120337 \n"
     ]
    }
   ],
   "source": [
    "# After running several combinations, we found these parameter values to give best result\n",
    "\n",
    "learning_rate = 0.093\n",
    "min_data_in_leaf = 130\n",
    "\n",
    "# Now that we have found the best model which has the lowest RMSE score, we are using that parameter values to retrain the model.\n",
    "\n",
    "cbr = CatBoostRegressor(learning_rate=learning_rate, min_data_in_leaf = min_data_in_leaf, iterations=1000, logging_level=\"Silent\")\n",
    "\n",
    "cbr.fit(X_train, y_train)\n",
    "\n",
    "# After training the model, we are trying to predict the model on X_val to check it's accuracy\n",
    "y_pred = cbr.predict(X_valid)\n",
    "\n",
    "# Now that it has predicted the values for X_val, we are calculating it's r2 score\n",
    "R2= r2_score(y_valid,y_pred)\n",
    "    \n",
    "print(f\"For learning rate {lr} and min_data_in_leaf {min_data_in_leaf} the R2 score is {R2} \")"
   ]
  },
  {
   "cell_type": "markdown",
   "metadata": {},
   "source": [
    "### Model 3 XGBoost"
   ]
  },
  {
   "cell_type": "code",
   "execution_count": 45,
   "metadata": {},
   "outputs": [
    {
     "name": "stdout",
     "output_type": "stream",
     "text": [
      "For learning rate 0.064, min_child_weight 45 and max_leaves 67 the R2 score is 0.3656220724842507 \n",
      "********************************************************************************\n",
      "For learning rate 0.037, min_child_weight 93 and max_leaves 81 the R2 score is 0.3496974962207512 \n",
      "********************************************************************************\n",
      "For learning rate 0.052, min_child_weight 53 and max_leaves 80 the R2 score is 0.36241603018836754 \n",
      "********************************************************************************\n",
      "For learning rate 0.079, min_child_weight 104 and max_leaves 80 the R2 score is 0.3661692773926152 \n",
      "********************************************************************************\n",
      "For learning rate 0.059, min_child_weight 62 and max_leaves 79 the R2 score is 0.36368528700387803 \n",
      "********************************************************************************\n",
      "For learning rate 0.094, min_child_weight 123 and max_leaves 91 the R2 score is 0.3675173478549604 \n",
      "********************************************************************************\n",
      "For learning rate 0.044, min_child_weight 131 and max_leaves 65 the R2 score is 0.35667404489272836 \n",
      "********************************************************************************\n",
      "For learning rate 0.003, min_child_weight 126 and max_leaves 30 the R2 score is -6.338154798054767 \n",
      "********************************************************************************\n",
      "For learning rate 0.016, min_child_weight 84 and max_leaves 46 the R2 score is -0.1533364741829315 \n",
      "********************************************************************************\n",
      "For learning rate 0.038, min_child_weight 70 and max_leaves 57 the R2 score is 0.3521231933119209 \n",
      "********************************************************************************\n",
      "For learning rate 0.039, min_child_weight 115 and max_leaves 74 the R2 score is 0.351752587478235 \n",
      "********************************************************************************\n",
      "For learning rate 0.024, min_child_weight 30 and max_leaves 84 the R2 score is 0.2515073135947661 \n",
      "********************************************************************************\n",
      "For learning rate 0.0, min_child_weight 108 and max_leaves 70 the R2 score is -11.78079471501653 \n",
      "********************************************************************************\n",
      "For learning rate 0.032, min_child_weight 139 and max_leaves 77 the R2 score is 0.33323245890205155 \n",
      "********************************************************************************\n",
      "For learning rate 0.083, min_child_weight 137 and max_leaves 80 the R2 score is 0.36569208137303777 \n",
      "********************************************************************************\n",
      "For learning rate 0.028, min_child_weight 105 and max_leaves 34 the R2 score is 0.30593200672878496 \n",
      "********************************************************************************\n",
      "For learning rate 0.077, min_child_weight 122 and max_leaves 42 the R2 score is 0.365875196575586 \n",
      "********************************************************************************\n",
      "For learning rate 0.067, min_child_weight 118 and max_leaves 58 the R2 score is 0.36436533314473485 \n",
      "********************************************************************************\n",
      "For learning rate 0.021, min_child_weight 109 and max_leaves 36 the R2 score is 0.16369615047309338 \n",
      "********************************************************************************\n",
      "For learning rate 0.009, min_child_weight 127 and max_leaves 88 the R2 score is -1.6796340754957289 \n",
      "********************************************************************************\n",
      "For learning rate 0.07, min_child_weight 94 and max_leaves 95 the R2 score is 0.3653786681619503 \n",
      "********************************************************************************\n",
      "For learning rate 0.093, min_child_weight 141 and max_leaves 98 the R2 score is 0.3669211512547259 \n",
      "********************************************************************************\n",
      "For learning rate 0.076, min_child_weight 76 and max_leaves 72 the R2 score is 0.3664582806986564 \n",
      "********************************************************************************\n",
      "For learning rate 0.067, min_child_weight 30 and max_leaves 63 the R2 score is 0.3662461391244506 \n",
      "********************************************************************************\n",
      "For learning rate 0.069, min_child_weight 83 and max_leaves 38 the R2 score is 0.3655452606436458 \n",
      "********************************************************************************\n",
      "For learning rate 0.009, min_child_weight 48 and max_leaves 41 the R2 score is -1.67844106760879 \n",
      "********************************************************************************\n",
      "For learning rate 0.061, min_child_weight 55 and max_leaves 86 the R2 score is 0.3645730126195297 \n",
      "********************************************************************************\n",
      "For learning rate 0.062, min_child_weight 54 and max_leaves 70 the R2 score is 0.3651232479772303 \n",
      "********************************************************************************\n",
      "For learning rate 0.021, min_child_weight 145 and max_leaves 31 the R2 score is 0.16229374469601354 \n",
      "********************************************************************************\n",
      "For learning rate 0.013, min_child_weight 100 and max_leaves 99 the R2 score is -0.5657275187079167 \n",
      "********************************************************************************\n",
      "For learning rate 0.021, min_child_weight 32 and max_leaves 37 the R2 score is 0.16516443197974828 \n",
      "********************************************************************************\n",
      "For learning rate 0.03, min_child_weight 122 and max_leaves 49 the R2 score is 0.3229927608014048 \n",
      "********************************************************************************\n",
      "For learning rate 0.025, min_child_weight 81 and max_leaves 38 the R2 score is 0.26832466297597124 \n",
      "********************************************************************************\n",
      "For learning rate 0.059, min_child_weight 67 and max_leaves 35 the R2 score is 0.3627431927714627 \n",
      "********************************************************************************\n",
      "For learning rate 0.062, min_child_weight 91 and max_leaves 44 the R2 score is 0.3640070993979212 \n",
      "********************************************************************************\n",
      "For learning rate 0.021, min_child_weight 119 and max_leaves 68 the R2 score is 0.16467308188053242 \n",
      "********************************************************************************\n",
      "For learning rate 0.097, min_child_weight 40 and max_leaves 76 the R2 score is 0.3680943533602197 \n",
      "********************************************************************************\n",
      "For learning rate 0.056, min_child_weight 115 and max_leaves 62 the R2 score is 0.3618538973928842 \n",
      "********************************************************************************\n",
      "For learning rate 0.019, min_child_weight 129 and max_leaves 77 the R2 score is 0.07246439557670048 \n",
      "********************************************************************************\n",
      "For learning rate 0.026, min_child_weight 66 and max_leaves 36 the R2 score is 0.2833727369496408 \n",
      "********************************************************************************\n"
     ]
    }
   ],
   "source": [
    "# We are training our model with multiple parameter values to get the best parameter to be used for the model.\n",
    "\n",
    "# We are randomly creating values to chose the best model out of it.\n",
    "\n",
    "\n",
    "for i in range(40):\n",
    "    lr = np.round(np.random.rand()/10,3)\n",
    "    min_child_weight  = np.random.randint(30,150)\n",
    "    max_leaves = np.random.randint(30,100)\n",
    "\n",
    "    xgb = XGBRegressor(tree_method = 'hist', learning_rate = lr,min_child_weight = min_child_weight, \n",
    "                       subsample = 0.7, colsample_bytree = 0.7, n_estimators = 100,grow_policy = 'lossguide',\n",
    "                       max_leaves = max_leaves, n_jobs=-1 ) \n",
    "    \n",
    "    xgb.fit(X_train,y_train)\n",
    "    y_pred = xgb.predict(X_valid)\n",
    "\n",
    "    # Now that it has predicted the values for X_val, we are calculating it's r2 score\n",
    "    R2= r2_score(y_valid,y_pred)\n",
    "    \n",
    "    print(f\"For learning rate {lr}, min_child_weight {min_child_weight} and max_leaves {max_leaves} the R2 score is {R2} \")\n",
    "    print('*'*80)"
   ]
  },
  {
   "cell_type": "code",
   "execution_count": 46,
   "metadata": {},
   "outputs": [
    {
     "name": "stdout",
     "output_type": "stream",
     "text": [
      "For learning rate 0.097, min_child_weight 40 and max_leaves 76 the R2 score is 0.3737048388557631 \n"
     ]
    }
   ],
   "source": [
    "lr = 0.097\n",
    "min_child_weight  = 40\n",
    "max_leaves = 76\n",
    "\n",
    "# Now that we have found the best model which has the lowest RMSE score, we are using that parameter values to retrain the model.\n",
    "\n",
    "xgb = XGBRegressor(tree_method = 'hist', learning_rate = lr,min_child_weight = min_child_weight, \n",
    "                       subsample = 0.7, colsample_bytree = 0.7, n_estimators = 1000,grow_policy = 'lossguide',\n",
    "                       max_leaves = max_leaves, n_jobs=-1 )\n",
    "xgb.fit(X_train,y_train)\n",
    "y_pred = xgb.predict(X_valid)\n",
    "\n",
    "# Now that it has predicted the values for X_val, we are calculating it's r2 score\n",
    "R2= r2_score(y_valid,y_pred)\n",
    "    \n",
    "print(f\"For learning rate {lr}, min_child_weight {min_child_weight} and max_leaves {max_leaves} the R2 score is {R2} \")\n",
    "    "
   ]
  },
  {
   "cell_type": "markdown",
   "metadata": {},
   "source": [
    "### Model 4 Linear Regression"
   ]
  },
  {
   "cell_type": "code",
   "execution_count": 47,
   "metadata": {},
   "outputs": [
    {
     "name": "stdout",
     "output_type": "stream",
     "text": [
      "The R2 score is 0.2434242422182552\n"
     ]
    }
   ],
   "source": [
    "model = LinearRegression(n_jobs=-1)\n",
    "model.fit(X_train,y_train)\n",
    "\n",
    "y_pred = model.predict(X_valid)\n",
    "\n",
    "# Now that it has predicted the values for X_val, we are calculating it's r2 score\n",
    "R2= r2_score(y_valid,y_pred)\n",
    "\n",
    "print(f\"The R2 score is {R2}\")"
   ]
  },
  {
   "cell_type": "markdown",
   "metadata": {},
   "source": [
    "### Model 5 ElasticNet"
   ]
  },
  {
   "cell_type": "code",
   "execution_count": 49,
   "metadata": {},
   "outputs": [
    {
     "name": "stdout",
     "output_type": "stream",
     "text": [
      "For alpha 1e-06 and l1_ratio 1e-06 the R2 score is 0.24342421928004332 \n",
      "********************************************************************************\n",
      "For alpha 1e-06 and l1_ratio 1e-05 the R2 score is 0.24342421927997104 \n",
      "********************************************************************************\n",
      "For alpha 1e-06 and l1_ratio 0.0001 the R2 score is 0.24342421927925117 \n",
      "********************************************************************************\n",
      "For alpha 1e-06 and l1_ratio 0.001 the R2 score is 0.24342421927204516 \n",
      "********************************************************************************\n",
      "For alpha 1e-06 and l1_ratio 0.01 the R2 score is 0.24342421920000712 \n",
      "********************************************************************************\n",
      "For alpha 1e-06 and l1_ratio 0.1 the R2 score is 0.24342421847972062 \n",
      "********************************************************************************\n",
      "For alpha 1e-06 and l1_ratio 1 the R2 score is 0.243424211275315 \n",
      "********************************************************************************\n",
      "For alpha 1e-05 and l1_ratio 1e-06 the R2 score is 0.2434240125997208 \n",
      "********************************************************************************\n",
      "For alpha 1e-05 and l1_ratio 1e-05 the R2 score is 0.24342401259899848 \n",
      "********************************************************************************\n",
      "For alpha 1e-05 and l1_ratio 0.0001 the R2 score is 0.24342401259176993 \n",
      "********************************************************************************\n",
      "For alpha 1e-05 and l1_ratio 0.001 the R2 score is 0.24342401251950474 \n",
      "********************************************************************************\n",
      "For alpha 1e-05 and l1_ratio 0.01 the R2 score is 0.2434240117969485 \n",
      "********************************************************************************\n",
      "For alpha 1e-05 and l1_ratio 0.1 the R2 score is 0.24342400456984492 \n",
      "********************************************************************************\n",
      "For alpha 1e-05 and l1_ratio 1 the R2 score is 0.2434239320552296 \n",
      "********************************************************************************\n",
      "For alpha 0.0001 and l1_ratio 1e-06 the R2 score is 0.24342192241105753 \n",
      "********************************************************************************\n",
      "For alpha 0.0001 and l1_ratio 1e-05 the R2 score is 0.24342192240360194 \n",
      "********************************************************************************\n",
      "For alpha 0.0001 and l1_ratio 0.0001 the R2 score is 0.243421922329067 \n",
      "********************************************************************************\n",
      "For alpha 0.0001 and l1_ratio 0.001 the R2 score is 0.24342192158381204 \n",
      "********************************************************************************\n",
      "For alpha 0.0001 and l1_ratio 0.01 the R2 score is 0.24342191412972236 \n",
      "********************************************************************************\n",
      "For alpha 0.0001 and l1_ratio 0.1 the R2 score is 0.24342183934517436 \n",
      "********************************************************************************\n",
      "For alpha 0.0001 and l1_ratio 1 the R2 score is 0.24342106638768057 \n",
      "********************************************************************************\n",
      "For alpha 0.001 and l1_ratio 1e-06 the R2 score is 0.24339870143401798 \n",
      "********************************************************************************\n",
      "For alpha 0.001 and l1_ratio 1e-05 the R2 score is 0.24339870133677866 \n",
      "********************************************************************************\n",
      "For alpha 0.001 and l1_ratio 0.0001 the R2 score is 0.24339870036447908 \n",
      "********************************************************************************\n",
      "For alpha 0.001 and l1_ratio 0.001 the R2 score is 0.24339869063992448 \n",
      "********************************************************************************\n",
      "For alpha 0.001 and l1_ratio 0.01 the R2 score is 0.24339859315003798 \n",
      "********************************************************************************\n",
      "For alpha 0.001 and l1_ratio 0.1 the R2 score is 0.24339759307830455 \n",
      "********************************************************************************\n",
      "For alpha 0.001 and l1_ratio 1 the R2 score is 0.2433850520788967 \n",
      "********************************************************************************\n",
      "For alpha 0.01 and l1_ratio 1e-06 the R2 score is 0.24295288892822275 \n",
      "********************************************************************************\n",
      "For alpha 0.01 and l1_ratio 1e-05 the R2 score is 0.24295288569008622 \n",
      "********************************************************************************\n",
      "For alpha 0.01 and l1_ratio 0.0001 the R2 score is 0.24295285330700545 \n",
      "********************************************************************************\n",
      "For alpha 0.01 and l1_ratio 0.001 the R2 score is 0.2429525292254925 \n",
      "********************************************************************************\n",
      "For alpha 0.01 and l1_ratio 0.01 the R2 score is 0.24294926267861272 \n",
      "********************************************************************************\n",
      "For alpha 0.01 and l1_ratio 0.1 the R2 score is 0.24291400215200265 \n",
      "********************************************************************************\n",
      "For alpha 0.01 and l1_ratio 1 the R2 score is 0.24228963791670188 \n",
      "********************************************************************************\n",
      "For alpha 0.1 and l1_ratio 1e-06 the R2 score is 0.22813078869411807 \n",
      "********************************************************************************\n",
      "For alpha 0.1 and l1_ratio 1e-05 the R2 score is 0.22813057685325355 \n",
      "********************************************************************************\n",
      "For alpha 0.1 and l1_ratio 0.0001 the R2 score is 0.22812845817985095 \n",
      "********************************************************************************\n",
      "For alpha 0.1 and l1_ratio 0.001 the R2 score is 0.22810724478556066 \n",
      "********************************************************************************\n",
      "For alpha 0.1 and l1_ratio 0.01 the R2 score is 0.22789243217070332 \n",
      "********************************************************************************\n",
      "For alpha 0.1 and l1_ratio 0.1 the R2 score is 0.22546598555324338 \n",
      "********************************************************************************\n",
      "For alpha 0.1 and l1_ratio 1 the R2 score is 0.18031334125142062 \n",
      "********************************************************************************\n",
      "For alpha 1 and l1_ratio 1e-06 the R2 score is 0.13412617075482602 \n",
      "********************************************************************************\n",
      "For alpha 1 and l1_ratio 1e-05 the R2 score is 0.13412339188746059 \n",
      "********************************************************************************\n",
      "For alpha 1 and l1_ratio 0.0001 the R2 score is 0.13409559732414278 \n",
      "********************************************************************************\n",
      "For alpha 1 and l1_ratio 0.001 the R2 score is 0.13381702191139466 \n",
      "********************************************************************************\n",
      "For alpha 1 and l1_ratio 0.01 the R2 score is 0.13096769612774828 \n",
      "********************************************************************************\n",
      "For alpha 1 and l1_ratio 0.1 the R2 score is 0.10113648573049672 \n",
      "********************************************************************************\n",
      "For alpha 1 and l1_ratio 1 the R2 score is 0.0477040735162475 \n",
      "********************************************************************************\n",
      "For alpha 10 and l1_ratio 1e-06 the R2 score is 0.08176930034823793 \n",
      "********************************************************************************\n",
      "For alpha 10 and l1_ratio 1e-05 the R2 score is 0.08176369502333425 \n",
      "********************************************************************************\n",
      "For alpha 10 and l1_ratio 0.0001 the R2 score is 0.08170760292496004 \n",
      "********************************************************************************\n",
      "For alpha 10 and l1_ratio 0.001 the R2 score is 0.08114290714142358 \n",
      "********************************************************************************\n",
      "For alpha 10 and l1_ratio 0.01 the R2 score is 0.07576746910702414 \n",
      "********************************************************************************\n",
      "For alpha 10 and l1_ratio 0.1 the R2 score is 0.04485830310668626 \n",
      "********************************************************************************\n",
      "For alpha 10 and l1_ratio 1 the R2 score is 0.006061602686512346 \n",
      "********************************************************************************\n",
      "For alpha 100 and l1_ratio 1e-06 the R2 score is 0.056155664692413954 \n",
      "********************************************************************************\n",
      "For alpha 100 and l1_ratio 1e-05 the R2 score is 0.056132537173874564 \n",
      "********************************************************************************\n",
      "For alpha 100 and l1_ratio 0.0001 the R2 score is 0.055899888350099514 \n",
      "********************************************************************************\n",
      "For alpha 100 and l1_ratio 0.001 the R2 score is 0.05357211854749444 \n",
      "********************************************************************************\n",
      "For alpha 100 and l1_ratio 0.01 the R2 score is 0.029559117131860324 \n",
      "********************************************************************************\n",
      "For alpha 100 and l1_ratio 0.1 the R2 score is 0.006055674187417148 \n",
      "********************************************************************************\n",
      "For alpha 100 and l1_ratio 1 the R2 score is -4.1227606905946956e-05 \n",
      "********************************************************************************\n",
      "For alpha 1000 and l1_ratio 1e-06 the R2 score is 0.021185559470771942 \n",
      "********************************************************************************\n",
      "For alpha 1000 and l1_ratio 1e-05 the R2 score is 0.021117802004903985 \n",
      "********************************************************************************\n"
     ]
    },
    {
     "name": "stdout",
     "output_type": "stream",
     "text": [
      "For alpha 1000 and l1_ratio 0.0001 the R2 score is 0.020437667055260955 \n",
      "********************************************************************************\n",
      "For alpha 1000 and l1_ratio 0.001 the R2 score is 0.013508148825048805 \n",
      "********************************************************************************\n",
      "For alpha 1000 and l1_ratio 0.01 the R2 score is 0.005996962934207595 \n",
      "********************************************************************************\n",
      "For alpha 1000 and l1_ratio 0.1 the R2 score is -4.1227606905946956e-05 \n",
      "********************************************************************************\n",
      "For alpha 1000 and l1_ratio 1 the R2 score is -4.1227606905946956e-05 \n",
      "********************************************************************************\n"
     ]
    }
   ],
   "source": [
    "# We are training our model with multiple parameter values to get the best parameter to be used for the model.\n",
    "\n",
    "# We are randomly creating values to chose the best model out of it.\n",
    "\n",
    "\n",
    "alp = [0.000001,0.00001,0.0001,0.001,0.01,0.1,1,10,100,1000]\n",
    "l1_ratio = [0.000001,0.00001,0.0001,0.001,0.01,0.1,1]\n",
    "\n",
    "for i in alp:\n",
    "    for j in l1_ratio:\n",
    "        \n",
    "        model = ElasticNet(alpha=i,l1_ratio=j, max_iter=250)\n",
    "        model.fit(X_train,y_train)\n",
    "        \n",
    "        y_pred = model.predict(X_valid)\n",
    "\n",
    "        R2= r2_score(y_valid,y_pred)\n",
    "        \n",
    "        print(f\"For alpha {i} and l1_ratio {j} the R2 score is {R2} \")\n",
    "        print('*'*80)"
   ]
  },
  {
   "cell_type": "code",
   "execution_count": 50,
   "metadata": {},
   "outputs": [
    {
     "name": "stdout",
     "output_type": "stream",
     "text": [
      "For alpha 1000 and l1_ratio 1 the R2 score is 0.24342421928004332 \n"
     ]
    }
   ],
   "source": [
    "alpha = 1e-06\n",
    "l1_ratio = 1e-06\n",
    "\n",
    "model = ElasticNet(alpha=alpha,l1_ratio=l1_ratio, max_iter=250)\n",
    "model.fit(X_train,y_train)\n",
    "\n",
    "y_pred = model.predict(X_valid)\n",
    "R2= r2_score(y_valid,y_pred)        \n",
    "print(f\"For alpha {i} and l1_ratio {j} the R2 score is {R2} \")"
   ]
  },
  {
   "cell_type": "markdown",
   "metadata": {},
   "source": [
    "### Model 6 Ridge Regression"
   ]
  },
  {
   "cell_type": "code",
   "execution_count": 51,
   "metadata": {},
   "outputs": [
    {
     "name": "stdout",
     "output_type": "stream",
     "text": [
      "For alpha value 1e-06 the R2 is 0.2434242422179338 \n",
      "********************************************************************************\n",
      "For alpha value 1e-05 the R2 is 0.2434242422150411 \n",
      "********************************************************************************\n",
      "For alpha value 0.0001 the R2 is 0.24342424218611314 \n",
      "********************************************************************************\n",
      "For alpha value 0.001 the R2 is 0.24342424189683454 \n",
      "********************************************************************************\n",
      "For alpha value 0.01 the R2 is 0.24342423900400212 \n",
      "********************************************************************************\n",
      "For alpha value 0.1 the R2 is 0.24342421007108206 \n",
      "********************************************************************************\n",
      "For alpha value 0.05 the R2 is 0.2434242261459585 \n",
      "********************************************************************************\n",
      "For alpha value 0.5 the R2 is 0.24342408137920812 \n",
      "********************************************************************************\n",
      "For alpha value 1 the R2 is 0.24342392028223714 \n",
      "********************************************************************************\n",
      "For alpha value 10 the R2 is 0.24342097648351624 \n",
      "********************************************************************************\n",
      "For alpha value 100 the R2 is 0.24338700086276155 \n",
      "********************************************************************************\n"
     ]
    }
   ],
   "source": [
    "# We are training our model with multiple parameter values to get the best parameter to be used for the model.\n",
    "\n",
    "# We are randomly creating values to chose the best model out of it.\n",
    "\n",
    "\n",
    "alpha = [0.000001,0.00001,0.0001,0.001,0.01,0.1,0.05,0.5,1,10,100]\n",
    "\n",
    "for i in alpha:\n",
    "    \n",
    "    model = Ridge(alpha=i)\n",
    "\n",
    "    model.fit(X_train, y_train)\n",
    "\n",
    "    # After training the model, we are trying to predict the model on X_val to check it's accuracy\n",
    "    y_pred = model.predict(X_valid)\n",
    "    \n",
    "\n",
    "    # Now that it has predicted the values for X_val, we are calculating it's rmse\n",
    "    R2= r2_score(y_valid,y_pred)\n",
    "    \n",
    "    print(f\"For alpha value {i} the R2 is {R2} \")\n",
    "    print('*'*80)"
   ]
  },
  {
   "cell_type": "code",
   "execution_count": 52,
   "metadata": {},
   "outputs": [
    {
     "name": "stdout",
     "output_type": "stream",
     "text": [
      "For alpha value 1, the R2 score is 0.2434242422179338\n"
     ]
    }
   ],
   "source": [
    "# We are re-training our model with the best alpha value.\n",
    "model = Ridge(alpha=1e-06)\n",
    "\n",
    "model.fit(X_train, y_train)\n",
    "\n",
    "# After training the model, we are trying to predict the model on X_val to check it's accuracy\n",
    "y_pred = model.predict(X_valid)\n",
    "    \n",
    "# Now that it has predicted the values for X_val, we are calculating it's rmse\n",
    "R2= r2_score(y_valid,y_pred)\n",
    "print(f\"For alpha value 1, the R2 score is {R2}\")"
   ]
  },
  {
   "cell_type": "markdown",
   "metadata": {},
   "source": [
    "### Model 7 Lasso Regression"
   ]
  },
  {
   "cell_type": "code",
   "execution_count": 53,
   "metadata": {},
   "outputs": [
    {
     "name": "stdout",
     "output_type": "stream",
     "text": [
      "For alpha value 1e-06 the R2 is 0.243424211275315 \n",
      "********************************************************************************\n",
      "For alpha value 1e-05 the R2 is 0.2434239320552296 \n",
      "********************************************************************************\n",
      "For alpha value 0.0001 the R2 is 0.24342106638768057 \n",
      "********************************************************************************\n",
      "For alpha value 0.001 the R2 is 0.2433850520788967 \n",
      "********************************************************************************\n",
      "For alpha value 0.01 the R2 is 0.24228963791670188 \n",
      "********************************************************************************\n",
      "For alpha value 0.1 the R2 is 0.18031334125142062 \n",
      "********************************************************************************\n",
      "For alpha value 0.05 the R2 is 0.22307693703421938 \n",
      "********************************************************************************\n",
      "For alpha value 0.5 the R2 is 0.0665318106591889 \n",
      "********************************************************************************\n",
      "For alpha value 1 the R2 is 0.0477040735162475 \n",
      "********************************************************************************\n",
      "For alpha value 10 the R2 is 0.006061602686512346 \n",
      "********************************************************************************\n",
      "For alpha value 100 the R2 is -4.1227606905946956e-05 \n",
      "********************************************************************************\n"
     ]
    }
   ],
   "source": [
    "# We are training our model with multiple parameter values to get the best parameter to be used for the model.\n",
    "\n",
    "# We are randomly creating values to chose the best model out of it.\n",
    "\n",
    "\n",
    "alpha = [0.000001,0.00001,0.0001,0.001,0.01,0.1,0.05,0.5,1,10,100]\n",
    "\n",
    "for i in alpha:\n",
    "    \n",
    "    model = Lasso(alpha=i)\n",
    "\n",
    "    model.fit(X_train, y_train)\n",
    "\n",
    "    # After training the model, we are trying to predict the model on X_val to check it's accuracy\n",
    "    y_pred = model.predict(X_valid)\n",
    "    \n",
    "\n",
    "    # Now that it has predicted the values for X_val, we are calculating it's rmse\n",
    "    R2= r2_score(y_valid,y_pred)\n",
    "    \n",
    "    print(f\"For alpha value {i} the R2 is {R2} \")\n",
    "    print('*'*80)"
   ]
  },
  {
   "cell_type": "code",
   "execution_count": 54,
   "metadata": {},
   "outputs": [
    {
     "name": "stdout",
     "output_type": "stream",
     "text": [
      "For alpha value 0.001, the R2 score is 0.243424211275315\n"
     ]
    }
   ],
   "source": [
    "# We are re-training our model with the best alpha value.\n",
    "\n",
    "model = Lasso(alpha=1e-06)\n",
    "model.fit(X_train, y_train)\n",
    "\n",
    "# After training the model, we are trying to predict the model on X_val to check it's accuracy\n",
    "y_pred = model.predict(X_valid)\n",
    "    \n",
    "# Now that it has predicted the values for X_val, we are calculating it's rmse\n",
    "R2= r2_score(y_valid,y_pred)\n",
    "\n",
    "print(f\"For alpha value 0.001, the R2 score is {R2}\")"
   ]
  },
  {
   "cell_type": "markdown",
   "metadata": {},
   "source": [
    "### Model 8 AdaBoost Regression"
   ]
  },
  {
   "cell_type": "code",
   "execution_count": 55,
   "metadata": {},
   "outputs": [
    {
     "name": "stdout",
     "output_type": "stream",
     "text": [
      "For learning_rate 1e-06 the R2 is 0.26559448220482074 \n",
      "********************************************************************************\n",
      "For learning_rate 1e-05 the R2 is 0.2652395803023011 \n",
      "********************************************************************************\n",
      "For learning_rate 0.0001 the R2 is 0.26666871627142363 \n",
      "********************************************************************************\n",
      "For learning_rate 0.001 the R2 is 0.2653823325204506 \n",
      "********************************************************************************\n",
      "For learning_rate 0.01 the R2 is 0.26892060758235503 \n",
      "********************************************************************************\n",
      "For learning_rate 0.1 the R2 is 0.1810393149717906 \n",
      "********************************************************************************\n",
      "For learning_rate 0.05 the R2 is 0.26051527118476825 \n",
      "********************************************************************************\n",
      "For learning_rate 0.025 the R2 is 0.27349846313391735 \n",
      "********************************************************************************\n",
      "For learning_rate 0.05 the R2 is 0.2600718108503822 \n",
      "********************************************************************************\n",
      "For learning_rate 0.075 the R2 is 0.21640949768215645 \n",
      "********************************************************************************\n",
      "For learning_rate 1 the R2 is -1.287834444420521 \n",
      "********************************************************************************\n",
      "For learning_rate 10 the R2 is -2.808339206981977 \n",
      "********************************************************************************\n",
      "For learning_rate 100 the R2 is -0.24096324926893087 \n",
      "********************************************************************************\n"
     ]
    }
   ],
   "source": [
    "# We are training our model with multiple parameter values to get the best parameter to be used for the model.\n",
    "\n",
    "# We are randomly creating values to chose the best model out of it.\n",
    "\n",
    "\n",
    "lr_lst = [0.000001,0.00001,0.0001,0.001,0.01,0.1,0.05,0.025,0.05,0.075,1,10,100] \n",
    "\n",
    "for lr in lr_lst:\n",
    "    \n",
    "    model = AdaBoostRegressor(n_estimators=50,learning_rate=lr,loss='square')\n",
    "    model.fit(X_train,y_train)\n",
    "    \n",
    "    # After training the model, we are trying to predict the model on X_val to check it's accuracy\n",
    "    y_pred = model.predict(X_valid)\n",
    "    \n",
    "\n",
    "    # Now that it has predicted the values for X_val, we are calculating it's rmse\n",
    "    R2= r2_score(y_valid,y_pred)\n",
    "    \n",
    "    print(f\"For learning_rate {lr} the R2 is {R2} \")\n",
    "    print('*'*80)"
   ]
  },
  {
   "cell_type": "code",
   "execution_count": 56,
   "metadata": {},
   "outputs": [
    {
     "name": "stdout",
     "output_type": "stream",
     "text": [
      "For learning_rate 100 the R2 is 0.2680198052097289 \n"
     ]
    }
   ],
   "source": [
    "\n",
    "model = AdaBoostRegressor(n_estimators=50,learning_rate=0.01,loss='square')\n",
    "model.fit(X_train,y_train)\n",
    "    \n",
    "# After training the model, we are trying to predict the model on X_val to check it's accuracy\n",
    "y_pred = model.predict(X_valid)\n",
    "    \n",
    "\n",
    "# Now that it has predicted the values for X_val, we are calculating it's rmse\n",
    "R2= r2_score(y_valid,y_pred)\n",
    "    \n",
    "print(f\"For learning_rate {lr} the R2 is {R2} \")"
   ]
  },
  {
   "cell_type": "markdown",
   "metadata": {},
   "source": [
    "### Model 9 KNeighbors Regressor"
   ]
  },
  {
   "cell_type": "code",
   "execution_count": 58,
   "metadata": {},
   "outputs": [
    {
     "name": "stdout",
     "output_type": "stream",
     "text": [
      "For n_neighbors 3 the R2 is -0.07316338242576403 \n",
      "********************************************************************************\n",
      "For n_neighbors 5 the R2 is -0.020751852795035886 \n",
      "********************************************************************************\n",
      "For n_neighbors 7 the R2 is 0.002355508130082118 \n",
      "********************************************************************************\n",
      "For n_neighbors 9 the R2 is 0.014945948304145973 \n",
      "********************************************************************************\n",
      "For n_neighbors 11 the R2 is 0.023651228835799953 \n",
      "********************************************************************************\n",
      "For n_neighbors 13 the R2 is 0.023298626822171542 \n",
      "********************************************************************************\n",
      "For n_neighbors 15 the R2 is 0.027151540101252758 \n",
      "********************************************************************************\n",
      "For n_neighbors 17 the R2 is 0.028633432221528143 \n",
      "********************************************************************************\n",
      "For n_neighbors 19 the R2 is 0.031521028718950794 \n",
      "********************************************************************************\n",
      "For n_neighbors 25 the R2 is 0.03250339122240564 \n",
      "********************************************************************************\n",
      "For n_neighbors 29 the R2 is 0.03154612695199255 \n",
      "********************************************************************************\n",
      "For n_neighbors 43 the R2 is 0.030780259457104497 \n",
      "********************************************************************************\n",
      "For n_neighbors 47 the R2 is 0.03090134072577355 \n",
      "********************************************************************************\n",
      "For n_neighbors 51 the R2 is 0.02942298855579839 \n",
      "********************************************************************************\n",
      "For n_neighbors 55 the R2 is 0.027542493970058146 \n",
      "********************************************************************************\n",
      "For n_neighbors 59 the R2 is 0.02615028721006507 \n",
      "********************************************************************************\n",
      "For n_neighbors 65 the R2 is 0.024338511140508445 \n",
      "********************************************************************************\n",
      "For n_neighbors 67 the R2 is 0.024488598394474037 \n",
      "********************************************************************************\n",
      "For n_neighbors 71 the R2 is 0.02433686285566994 \n",
      "********************************************************************************\n",
      "For n_neighbors 75 the R2 is 0.023711154892774977 \n",
      "********************************************************************************\n",
      "For n_neighbors 79 the R2 is 0.02322453348479625 \n",
      "********************************************************************************\n",
      "For n_neighbors 81 the R2 is 0.022724047327255636 \n",
      "********************************************************************************\n",
      "For n_neighbors 85 the R2 is 0.022156529194305108 \n",
      "********************************************************************************\n",
      "For n_neighbors 87 the R2 is 0.02213612082559613 \n",
      "********************************************************************************\n",
      "For n_neighbors 91 the R2 is 0.021612491681592183 \n",
      "********************************************************************************\n",
      "For n_neighbors 95 the R2 is 0.021114195564329696 \n",
      "********************************************************************************\n",
      "For n_neighbors 97 the R2 is 0.021257087159693322 \n",
      "********************************************************************************\n",
      "For n_neighbors 99 the R2 is 0.02149191160981323 \n",
      "********************************************************************************\n"
     ]
    }
   ],
   "source": [
    "# We are training our model with multiple parameter values to get the best parameter to be used for the model.\n",
    "\n",
    "# We are randomly creating values to chose the best model out of it.\n",
    "\n",
    "n_neighbors = [3,5,7,9,11,13,15,17,19,25,29,43,47,51,55,59,65,67,71,75,79,81,85,87,91,95,97,99] \n",
    "\n",
    "for i in n_neighbors:\n",
    "    \n",
    "    model = KNeighborsRegressor(n_neighbors=i)\n",
    "    model.fit(X_train,y_train)\n",
    "    \n",
    "    # After training the model, we are trying to predict the model on X_val to check it's accuracy\n",
    "    y_pred = model.predict(X_valid)\n",
    "    \n",
    "\n",
    "    # Now that it has predicted the values for X_val, we are calculating it's rmse\n",
    "    R2= r2_score(y_valid,y_pred)\n",
    "    \n",
    "    print(f\"For n_neighbors {i} the R2 is {R2} \")\n",
    "    print('*'*80)\n",
    "\n"
   ]
  },
  {
   "cell_type": "code",
   "execution_count": 59,
   "metadata": {},
   "outputs": [
    {
     "name": "stdout",
     "output_type": "stream",
     "text": [
      "For n_neighbors 99 the R2 is 0.027542493970058146 \n"
     ]
    }
   ],
   "source": [
    "model = KNeighborsRegressor(n_neighbors=55)\n",
    "model.fit(X_train,y_train)\n",
    "    \n",
    "# After training the model, we are trying to predict the model on X_val to check it's accuracy\n",
    "y_pred = model.predict(X_valid)\n",
    "    \n",
    "\n",
    "# Now that it has predicted the values for X_val, we are calculating it's rmse\n",
    "R2= r2_score(y_valid,y_pred)\n",
    "    \n",
    "print(f\"For n_neighbors {i} the R2 is {R2} \")"
   ]
  },
  {
   "cell_type": "markdown",
   "metadata": {},
   "source": [
    "### Step 6: Evaluation"
   ]
  },
  {
   "cell_type": "code",
   "execution_count": 60,
   "metadata": {},
   "outputs": [
    {
     "name": "stdout",
     "output_type": "stream",
     "text": [
      "+-----------------------+----------+\n",
      "|         Model         | R2_score |\n",
      "+-----------------------+----------+\n",
      "|   CatBoost Regressor  | 0.37560  |\n",
      "|     LGBM Regressor    | 0.37380  |\n",
      "|   XG Boost Regressor  | 0.37370  |\n",
      "|   AdaBoost Regressor  | 0.26801  |\n",
      "|   Linear Regression   | 0.24342  |\n",
      "|  ElasticNet Regressor | 0.24342  |\n",
      "|    Ridge Regressor    | 0.24342  |\n",
      "|    Lasso Regressor    | 0.24342  |\n",
      "| KNeighbors Regressor  | 0.02754  |\n",
      "+-----------------------+----------+\n"
     ]
    }
   ],
   "source": [
    "table = PrettyTable([\"Model\", \"R2_score\"])\n",
    "  \n",
    "table.add_row([\"CatBoost Regressor\",\"0.37560\"])\n",
    "table.add_row([\"LGBM Regressor\",\"0.37380\"])\n",
    "table.add_row([\"XG Boost Regressor\",\"0.37370\"])\n",
    "table.add_row([\"AdaBoost Regressor\",\"0.26801\"])\n",
    "table.add_row([\"Linear Regression\",\"0.24342\"])\n",
    "table.add_row([\"ElasticNet Regressor\",\"0.24342\"])\n",
    "table.add_row([\"Ridge Regressor\",\"0.24342\"])\n",
    "table.add_row([\"Lasso Regressor\",\"0.24342\"])\n",
    "table.add_row([\"KNeighbors Regressor \",\"0.02754\"])\n",
    "\n",
    "print(table)  "
   ]
  },
  {
   "cell_type": "markdown",
   "metadata": {},
   "source": [
    "* As we can clearly see CatBoost Regressor performs slighlty better than LGBM and XGBoost regression. \n",
    "\n",
    "\n",
    "* so we can select CatBoost Regressor for making our final predictions"
   ]
  },
  {
   "cell_type": "markdown",
   "metadata": {},
   "source": [
    "# Final Model"
   ]
  },
  {
   "cell_type": "code",
   "execution_count": 61,
   "metadata": {},
   "outputs": [
    {
     "data": {
      "text/plain": [
       "<catboost.core.CatBoostRegressor at 0x249c0ce44f0>"
      ]
     },
     "execution_count": 61,
     "metadata": {},
     "output_type": "execute_result"
    }
   ],
   "source": [
    "learning_rate = 0.093\n",
    "min_data_in_leaf = 130\n",
    "\n",
    "# Now that we have found the best model which has the lowest RMSE score, we are using that parameter values to retrain the model.\n",
    "\n",
    "cbr = CatBoostRegressor(learning_rate=learning_rate, min_data_in_leaf = min_data_in_leaf, iterations=1000, logging_level=\"Silent\")\n",
    "\n",
    "cbr.fit(X_train, y_train)\n"
   ]
  },
  {
   "cell_type": "markdown",
   "metadata": {},
   "source": [
    "### Final Prediction"
   ]
  },
  {
   "cell_type": "code",
   "execution_count": 62,
   "metadata": {},
   "outputs": [],
   "source": [
    "submission = pd.read_csv('sample_submission_JPlpRcN.csv')"
   ]
  },
  {
   "cell_type": "code",
   "execution_count": 63,
   "metadata": {},
   "outputs": [
    {
     "data": {
      "text/html": [
       "<div>\n",
       "<style scoped>\n",
       "    .dataframe tbody tr th:only-of-type {\n",
       "        vertical-align: middle;\n",
       "    }\n",
       "\n",
       "    .dataframe tbody tr th {\n",
       "        vertical-align: top;\n",
       "    }\n",
       "\n",
       "    .dataframe thead th {\n",
       "        text-align: right;\n",
       "    }\n",
       "</style>\n",
       "<table border=\"1\" class=\"dataframe\">\n",
       "  <thead>\n",
       "    <tr style=\"text-align: right;\">\n",
       "      <th></th>\n",
       "      <th>row_id</th>\n",
       "      <th>user_id</th>\n",
       "      <th>category_id</th>\n",
       "      <th>video_id</th>\n",
       "      <th>age</th>\n",
       "      <th>gender</th>\n",
       "      <th>profession</th>\n",
       "      <th>followers</th>\n",
       "      <th>views</th>\n",
       "    </tr>\n",
       "  </thead>\n",
       "  <tbody>\n",
       "    <tr>\n",
       "      <th>0</th>\n",
       "      <td>89198</td>\n",
       "      <td>7986</td>\n",
       "      <td>12</td>\n",
       "      <td>42</td>\n",
       "      <td>14</td>\n",
       "      <td>1</td>\n",
       "      <td>1</td>\n",
       "      <td>180</td>\n",
       "      <td>138</td>\n",
       "    </tr>\n",
       "    <tr>\n",
       "      <th>1</th>\n",
       "      <td>89199</td>\n",
       "      <td>11278</td>\n",
       "      <td>34</td>\n",
       "      <td>115</td>\n",
       "      <td>14</td>\n",
       "      <td>1</td>\n",
       "      <td>1</td>\n",
       "      <td>230</td>\n",
       "      <td>840</td>\n",
       "    </tr>\n",
       "    <tr>\n",
       "      <th>2</th>\n",
       "      <td>89200</td>\n",
       "      <td>17245</td>\n",
       "      <td>8</td>\n",
       "      <td>110</td>\n",
       "      <td>44</td>\n",
       "      <td>0</td>\n",
       "      <td>2</td>\n",
       "      <td>280</td>\n",
       "      <td>628</td>\n",
       "    </tr>\n",
       "    <tr>\n",
       "      <th>3</th>\n",
       "      <td>89201</td>\n",
       "      <td>9851</td>\n",
       "      <td>16</td>\n",
       "      <td>137</td>\n",
       "      <td>18</td>\n",
       "      <td>1</td>\n",
       "      <td>1</td>\n",
       "      <td>270</td>\n",
       "      <td>462</td>\n",
       "    </tr>\n",
       "    <tr>\n",
       "      <th>4</th>\n",
       "      <td>89202</td>\n",
       "      <td>16008</td>\n",
       "      <td>34</td>\n",
       "      <td>96</td>\n",
       "      <td>47</td>\n",
       "      <td>0</td>\n",
       "      <td>0</td>\n",
       "      <td>230</td>\n",
       "      <td>840</td>\n",
       "    </tr>\n",
       "  </tbody>\n",
       "</table>\n",
       "</div>"
      ],
      "text/plain": [
       "   row_id  user_id  category_id  video_id  age  gender  profession  followers  \\\n",
       "0   89198     7986           12        42   14       1           1        180   \n",
       "1   89199    11278           34       115   14       1           1        230   \n",
       "2   89200    17245            8       110   44       0           2        280   \n",
       "3   89201     9851           16       137   18       1           1        270   \n",
       "4   89202    16008           34        96   47       0           0        230   \n",
       "\n",
       "   views  \n",
       "0    138  \n",
       "1    840  \n",
       "2    628  \n",
       "3    462  \n",
       "4    840  "
      ]
     },
     "execution_count": 63,
     "metadata": {},
     "output_type": "execute_result"
    }
   ],
   "source": [
    "df_test.head()"
   ]
  },
  {
   "cell_type": "code",
   "execution_count": 64,
   "metadata": {},
   "outputs": [],
   "source": [
    "df_test = df_test.drop(['row_id'], axis=1)"
   ]
  },
  {
   "cell_type": "code",
   "execution_count": 65,
   "metadata": {},
   "outputs": [],
   "source": [
    "final_predictions = cbr.predict(df_test)\n",
    "submission['engagement_score'] = final_predictions\n",
    "\n",
    "#only positive predictions for the target variable\n",
    "submission['engagement_score'] = submission['engagement_score'].apply(lambda x: 0 if x<0 else x)\n",
    "submission.to_csv('my_submission.csv', index=False)"
   ]
  },
  {
   "cell_type": "markdown",
   "metadata": {},
   "source": [
    "# Conclusion"
   ]
  },
  {
   "cell_type": "markdown",
   "metadata": {},
   "source": [
    "* Although the R-square is quite low because of lack of information provided by the dataset, Still based on the highest result of R-square score I found CatBoost algorithm worked well on the validation data. \n",
    "\n",
    "* Still managed to get engagement score quite well as a result stored in my_submission.csv\n"
   ]
  }
 ],
 "metadata": {
  "kernelspec": {
   "display_name": "Python 3",
   "language": "python",
   "name": "python3"
  },
  "language_info": {
   "codemirror_mode": {
    "name": "ipython",
    "version": 3
   },
   "file_extension": ".py",
   "mimetype": "text/x-python",
   "name": "python",
   "nbconvert_exporter": "python",
   "pygments_lexer": "ipython3",
   "version": "3.8.5"
  }
 },
 "nbformat": 4,
 "nbformat_minor": 2
}
